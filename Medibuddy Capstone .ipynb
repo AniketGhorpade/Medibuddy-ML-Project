{
 "cells": [
  {
   "cell_type": "markdown",
   "id": "001fa895",
   "metadata": {},
   "source": [
    "## Importing Necessary Libraries "
   ]
  },
  {
   "cell_type": "code",
   "execution_count": 1,
   "id": "683a5848",
   "metadata": {
    "ExecuteTime": {
     "end_time": "2022-05-20T11:29:35.094082Z",
     "start_time": "2022-05-20T11:29:33.923547Z"
    }
   },
   "outputs": [],
   "source": [
    "## importing data handeling libraries \n",
    "\n",
    "import pandas as pd \n",
    "import numpy as np \n",
    "from collections import OrderedDict \n",
    "from sklearn.preprocessing import LabelEncoder,StandardScaler \n",
    "\n",
    "## data visualisation libraries \n",
    "\n",
    "import matplotlib.pyplot as plt \n",
    "import seaborn as sns \n",
    "\n",
    "\n",
    "## preprocessing libraries \n",
    "\n",
    "from sklearn.preprocessing import StandardScaler\n",
    "from sklearn.decomposition import PCA\n",
    "\n",
    "## warnings filtering library\n",
    "\n",
    "import warnings \n",
    "warnings.filterwarnings (\"ignore\") \n",
    "\n",
    "## model bulding libraries \n",
    "\n",
    "from sklearn.model_selection import train_test_split,cross_val_score,GridSearchCV,learning_curve\n",
    "\n",
    "## model evaluation libraries\n",
    "\n",
    "from sklearn.metrics import r2_score, mean_squared_error \n",
    "\n",
    "## machien learning model libraries \n",
    "\n",
    "from sklearn.linear_model import LinearRegression,Lasso,Ridge\n",
    "from sklearn.tree import DecisionTreeRegressor \n",
    "from sklearn.ensemble import RandomForestRegressor,AdaBoostRegressor,GradientBoostingRegressor\n",
    "from sklearn.neighbors import KNeighborsRegressor\n",
    "from sklearn.svm import SVR\n",
    "\n",
    "import xgboost\n",
    "from xgboost import XGBRegressor \n",
    "\n",
    "## importing clustering \n",
    "from sklearn.cluster import KMeans "
   ]
  },
  {
   "cell_type": "markdown",
   "id": "bbfe5fde",
   "metadata": {},
   "source": [
    "## Creating DataFrame "
   ]
  },
  {
   "cell_type": "code",
   "execution_count": 2,
   "id": "288b26d8",
   "metadata": {
    "ExecuteTime": {
     "end_time": "2022-05-20T11:29:35.593722Z",
     "start_time": "2022-05-20T11:29:35.094082Z"
    }
   },
   "outputs": [
    {
     "data": {
      "text/html": [
       "<div>\n",
       "<style scoped>\n",
       "    .dataframe tbody tr th:only-of-type {\n",
       "        vertical-align: middle;\n",
       "    }\n",
       "\n",
       "    .dataframe tbody tr th {\n",
       "        vertical-align: top;\n",
       "    }\n",
       "\n",
       "    .dataframe thead th {\n",
       "        text-align: right;\n",
       "    }\n",
       "</style>\n",
       "<table border=\"1\" class=\"dataframe\">\n",
       "  <thead>\n",
       "    <tr style=\"text-align: right;\">\n",
       "      <th></th>\n",
       "      <th>Policy no.</th>\n",
       "      <th>age</th>\n",
       "      <th>sex</th>\n",
       "      <th>bmi</th>\n",
       "      <th>charges in INR</th>\n",
       "    </tr>\n",
       "  </thead>\n",
       "  <tbody>\n",
       "    <tr>\n",
       "      <th>0</th>\n",
       "      <td>PLC156898</td>\n",
       "      <td>19.0</td>\n",
       "      <td>female</td>\n",
       "      <td>27.900</td>\n",
       "      <td>16884.92400</td>\n",
       "    </tr>\n",
       "    <tr>\n",
       "      <th>1</th>\n",
       "      <td>PLC156907</td>\n",
       "      <td>18.0</td>\n",
       "      <td>male</td>\n",
       "      <td>33.770</td>\n",
       "      <td>1725.55230</td>\n",
       "    </tr>\n",
       "    <tr>\n",
       "      <th>2</th>\n",
       "      <td>PLC156916</td>\n",
       "      <td>28.0</td>\n",
       "      <td>male</td>\n",
       "      <td>33.000</td>\n",
       "      <td>4449.46200</td>\n",
       "    </tr>\n",
       "    <tr>\n",
       "      <th>3</th>\n",
       "      <td>PLC156925</td>\n",
       "      <td>33.0</td>\n",
       "      <td>male</td>\n",
       "      <td>22.705</td>\n",
       "      <td>21984.47061</td>\n",
       "    </tr>\n",
       "    <tr>\n",
       "      <th>4</th>\n",
       "      <td>PLC156934</td>\n",
       "      <td>32.0</td>\n",
       "      <td>male</td>\n",
       "      <td>28.880</td>\n",
       "      <td>3866.85520</td>\n",
       "    </tr>\n",
       "  </tbody>\n",
       "</table>\n",
       "</div>"
      ],
      "text/plain": [
       "  Policy no.   age     sex     bmi  charges in INR\n",
       "0  PLC156898  19.0  female  27.900     16884.92400\n",
       "1  PLC156907  18.0    male  33.770      1725.55230\n",
       "2  PLC156916  28.0    male  33.000      4449.46200\n",
       "3  PLC156925  33.0    male  22.705     21984.47061\n",
       "4  PLC156934  32.0    male  28.880      3866.85520"
      ]
     },
     "execution_count": 2,
     "metadata": {},
     "output_type": "execute_result"
    }
   ],
   "source": [
    "## importing datset\n",
    "\n",
    "df1 = pd.read_excel(\"Medibuddy Insurance Data Price (1) (1).csv.xlsx\") \n",
    "df1.head() "
   ]
  },
  {
   "cell_type": "code",
   "execution_count": 3,
   "id": "00434fe4",
   "metadata": {
    "ExecuteTime": {
     "end_time": "2022-05-20T11:29:35.736297Z",
     "start_time": "2022-05-20T11:29:35.594729Z"
    }
   },
   "outputs": [
    {
     "data": {
      "text/html": [
       "<div>\n",
       "<style scoped>\n",
       "    .dataframe tbody tr th:only-of-type {\n",
       "        vertical-align: middle;\n",
       "    }\n",
       "\n",
       "    .dataframe tbody tr th {\n",
       "        vertical-align: top;\n",
       "    }\n",
       "\n",
       "    .dataframe thead th {\n",
       "        text-align: right;\n",
       "    }\n",
       "</style>\n",
       "<table border=\"1\" class=\"dataframe\">\n",
       "  <thead>\n",
       "    <tr style=\"text-align: right;\">\n",
       "      <th></th>\n",
       "      <th>Policy no.</th>\n",
       "      <th>children</th>\n",
       "      <th>smoker</th>\n",
       "      <th>region</th>\n",
       "    </tr>\n",
       "  </thead>\n",
       "  <tbody>\n",
       "    <tr>\n",
       "      <th>0</th>\n",
       "      <td>PLC157006</td>\n",
       "      <td>0.0</td>\n",
       "      <td>no</td>\n",
       "      <td>southwest</td>\n",
       "    </tr>\n",
       "    <tr>\n",
       "      <th>1</th>\n",
       "      <td>PLC157033</td>\n",
       "      <td>1.0</td>\n",
       "      <td>no</td>\n",
       "      <td>southwest</td>\n",
       "    </tr>\n",
       "    <tr>\n",
       "      <th>2</th>\n",
       "      <td>PLC157060</td>\n",
       "      <td>0.0</td>\n",
       "      <td>no</td>\n",
       "      <td>southwest</td>\n",
       "    </tr>\n",
       "    <tr>\n",
       "      <th>3</th>\n",
       "      <td>PLC157087</td>\n",
       "      <td>1.0</td>\n",
       "      <td>no</td>\n",
       "      <td>southwest</td>\n",
       "    </tr>\n",
       "    <tr>\n",
       "      <th>4</th>\n",
       "      <td>PLC157186</td>\n",
       "      <td>5.0</td>\n",
       "      <td>no</td>\n",
       "      <td>southwest</td>\n",
       "    </tr>\n",
       "  </tbody>\n",
       "</table>\n",
       "</div>"
      ],
      "text/plain": [
       "  Policy no.  children smoker     region\n",
       "0  PLC157006       0.0     no  southwest\n",
       "1  PLC157033       1.0     no  southwest\n",
       "2  PLC157060       0.0     no  southwest\n",
       "3  PLC157087       1.0     no  southwest\n",
       "4  PLC157186       5.0     no  southwest"
      ]
     },
     "execution_count": 3,
     "metadata": {},
     "output_type": "execute_result"
    }
   ],
   "source": [
    "## importing datset\n",
    "\n",
    "df2 = pd.read_excel(\"Medibuddy insurance data personal details copy.xlsx\") \n",
    "df2.head() "
   ]
  },
  {
   "cell_type": "code",
   "execution_count": 4,
   "id": "21a68792",
   "metadata": {
    "ExecuteTime": {
     "end_time": "2022-05-20T11:29:35.756317Z",
     "start_time": "2022-05-20T11:29:35.738269Z"
    }
   },
   "outputs": [
    {
     "data": {
      "text/html": [
       "<div>\n",
       "<style scoped>\n",
       "    .dataframe tbody tr th:only-of-type {\n",
       "        vertical-align: middle;\n",
       "    }\n",
       "\n",
       "    .dataframe tbody tr th {\n",
       "        vertical-align: top;\n",
       "    }\n",
       "\n",
       "    .dataframe thead th {\n",
       "        text-align: right;\n",
       "    }\n",
       "</style>\n",
       "<table border=\"1\" class=\"dataframe\">\n",
       "  <thead>\n",
       "    <tr style=\"text-align: right;\">\n",
       "      <th></th>\n",
       "      <th>Policy no.</th>\n",
       "      <th>age</th>\n",
       "      <th>sex</th>\n",
       "      <th>bmi</th>\n",
       "      <th>charges in INR</th>\n",
       "      <th>children</th>\n",
       "      <th>smoker</th>\n",
       "      <th>region</th>\n",
       "    </tr>\n",
       "  </thead>\n",
       "  <tbody>\n",
       "    <tr>\n",
       "      <th>0</th>\n",
       "      <td>PLC156898</td>\n",
       "      <td>19.0</td>\n",
       "      <td>0</td>\n",
       "      <td>27.900</td>\n",
       "      <td>16884.92400</td>\n",
       "      <td>0.0</td>\n",
       "      <td>1</td>\n",
       "      <td>3</td>\n",
       "    </tr>\n",
       "    <tr>\n",
       "      <th>1</th>\n",
       "      <td>PLC156907</td>\n",
       "      <td>18.0</td>\n",
       "      <td>1</td>\n",
       "      <td>33.770</td>\n",
       "      <td>1725.55230</td>\n",
       "      <td>1.0</td>\n",
       "      <td>0</td>\n",
       "      <td>2</td>\n",
       "    </tr>\n",
       "    <tr>\n",
       "      <th>2</th>\n",
       "      <td>PLC156916</td>\n",
       "      <td>28.0</td>\n",
       "      <td>1</td>\n",
       "      <td>33.000</td>\n",
       "      <td>4449.46200</td>\n",
       "      <td>3.0</td>\n",
       "      <td>0</td>\n",
       "      <td>2</td>\n",
       "    </tr>\n",
       "    <tr>\n",
       "      <th>3</th>\n",
       "      <td>PLC156925</td>\n",
       "      <td>33.0</td>\n",
       "      <td>1</td>\n",
       "      <td>22.705</td>\n",
       "      <td>21984.47061</td>\n",
       "      <td>0.0</td>\n",
       "      <td>0</td>\n",
       "      <td>1</td>\n",
       "    </tr>\n",
       "    <tr>\n",
       "      <th>4</th>\n",
       "      <td>PLC156934</td>\n",
       "      <td>32.0</td>\n",
       "      <td>1</td>\n",
       "      <td>28.880</td>\n",
       "      <td>3866.85520</td>\n",
       "      <td>0.0</td>\n",
       "      <td>0</td>\n",
       "      <td>1</td>\n",
       "    </tr>\n",
       "  </tbody>\n",
       "</table>\n",
       "</div>"
      ],
      "text/plain": [
       "  Policy no.   age  sex     bmi  charges in INR  children  smoker  region\n",
       "0  PLC156898  19.0    0  27.900     16884.92400       0.0       1       3\n",
       "1  PLC156907  18.0    1  33.770      1725.55230       1.0       0       2\n",
       "2  PLC156916  28.0    1  33.000      4449.46200       3.0       0       2\n",
       "3  PLC156925  33.0    1  22.705     21984.47061       0.0       0       1\n",
       "4  PLC156934  32.0    1  28.880      3866.85520       0.0       0       1"
      ]
     },
     "execution_count": 4,
     "metadata": {},
     "output_type": "execute_result"
    }
   ],
   "source": [
    "## creating dataframe\n",
    "\n",
    "df = pd.merge(df1,df2,on=\"Policy no.\",how=\"inner\")\n",
    "le = LabelEncoder()\n",
    "df[\"sex\"] = le.fit_transform(df[\"sex\"])\n",
    "df[\"smoker\"] = le.fit_transform(df[\"smoker\"])\n",
    "df[\"region\"] = le.fit_transform(df[\"region\"])\n",
    "df.head()"
   ]
  },
  {
   "cell_type": "code",
   "execution_count": 5,
   "id": "ac478d1a",
   "metadata": {
    "ExecuteTime": {
     "end_time": "2022-05-20T11:29:35.833005Z",
     "start_time": "2022-05-20T11:29:35.757330Z"
    }
   },
   "outputs": [
    {
     "data": {
      "text/plain": [
       "13270.422265141257"
      ]
     },
     "execution_count": 5,
     "metadata": {},
     "output_type": "execute_result"
    }
   ],
   "source": [
    "np.mean(df[\"charges in INR\"])"
   ]
  },
  {
   "cell_type": "markdown",
   "id": "8ebee06d",
   "metadata": {},
   "source": [
    "# 2. Average amount of money company spent over each policy cover is 13270 Rs."
   ]
  },
  {
   "cell_type": "markdown",
   "id": "f54de75b",
   "metadata": {},
   "source": [
    "## EDA "
   ]
  },
  {
   "cell_type": "code",
   "execution_count": 6,
   "id": "2c7a27a5",
   "metadata": {
    "ExecuteTime": {
     "end_time": "2022-05-20T11:29:35.924885Z",
     "start_time": "2022-05-20T11:29:35.833975Z"
    }
   },
   "outputs": [
    {
     "data": {
      "text/plain": [
       "(1338, 8)"
      ]
     },
     "execution_count": 6,
     "metadata": {},
     "output_type": "execute_result"
    }
   ],
   "source": [
    "## Doing Exploratory data analysis \n",
    "df.shape "
   ]
  },
  {
   "cell_type": "code",
   "execution_count": 7,
   "id": "72105d14",
   "metadata": {
    "ExecuteTime": {
     "end_time": "2022-05-20T11:29:36.071302Z",
     "start_time": "2022-05-20T11:29:35.925854Z"
    }
   },
   "outputs": [
    {
     "data": {
      "text/plain": [
       "Policy no.        0\n",
       "age               0\n",
       "sex               0\n",
       "bmi               0\n",
       "charges in INR    0\n",
       "children          0\n",
       "smoker            0\n",
       "region            0\n",
       "dtype: int64"
      ]
     },
     "execution_count": 7,
     "metadata": {},
     "output_type": "execute_result"
    }
   ],
   "source": [
    "df.isnull().sum() "
   ]
  },
  {
   "cell_type": "code",
   "execution_count": 8,
   "id": "744a93b6",
   "metadata": {
    "ExecuteTime": {
     "end_time": "2022-05-20T11:29:36.218474Z",
     "start_time": "2022-05-20T11:29:36.072273Z"
    }
   },
   "outputs": [
    {
     "data": {
      "text/plain": [
       "Policy no.         object\n",
       "age               float64\n",
       "sex                 int32\n",
       "bmi               float64\n",
       "charges in INR    float64\n",
       "children          float64\n",
       "smoker              int32\n",
       "region              int32\n",
       "dtype: object"
      ]
     },
     "execution_count": 8,
     "metadata": {},
     "output_type": "execute_result"
    }
   ],
   "source": [
    "df.dtypes"
   ]
  },
  {
   "cell_type": "code",
   "execution_count": 9,
   "id": "2d00eec6",
   "metadata": {
    "ExecuteTime": {
     "end_time": "2022-05-20T11:29:36.308388Z",
     "start_time": "2022-05-20T11:29:36.221483Z"
    }
   },
   "outputs": [],
   "source": [
    "## using user defined custom summary function for feature analysis\n",
    "\n",
    "def custom_summary(df): \n",
    "    \n",
    "    result = []\n",
    "    \n",
    "    for col in df.columns:\n",
    "        \n",
    "        if df[col].dtype != 'O':\n",
    "        \n",
    "            stats = OrderedDict ({\n",
    "                'Feature_Name' : col,\n",
    "                'Count':df[col].count(),\n",
    "                'Minimum':df[col].min(),\n",
    "                'Quarter 1':df[col].quantile(0.25), \n",
    "                \"Mean\":df[col].mean(),\n",
    "                'Median':df[col].median(),\n",
    "                'Quarter 3':df[col].quantile(0.75),\n",
    "                'Maximum':df[col].max(),\n",
    "                \"Variance\":df[col].var(),\n",
    "                'Standard Deviation':df[col].std(),\n",
    "                \"Kurtosis\":df[col].kurt(),\n",
    "                'Skewness':df[col].skew() ,\n",
    "                'IQR':df[col].quantile(0.75) - df[col].quantile(0.25)\n",
    "            })\n",
    "            \n",
    "            result.append(stats)\n",
    "        \n",
    "        \n",
    "    result = pd.DataFrame(result)\n",
    "    ##skewness type\n",
    "\n",
    "    skewtype =[]\n",
    "    \n",
    "    for i in result['Skewness']:\n",
    "        if i<=-1:\n",
    "            skewtype.append('Highly Negatively Skewed')\n",
    "        elif i<= -0.5:\n",
    "            skewtype.append('Moderately Negatively Skewed')\n",
    "        elif -0.5 < i < 0 :\n",
    "            skewtype.append('Approx Normal Distribution (-ve)')\n",
    "        elif 0 <= i < 0.5:\n",
    "            skewtype.append('Approx Normal Distribution (+ve)')\n",
    "        elif 0.5<= i < 1:\n",
    "            skewtype.append('Moderately Positively Skewed')\n",
    "        elif i >= 1:\n",
    "            skewtype.append('Highly Positively Skewed')\n",
    "    \n",
    "    result['Skew_Type'] = skewtype\n",
    "   ## Kurtosis Type\n",
    "    k_type = []\n",
    "    \n",
    "    for i in result['Kurtosis']:\n",
    "        if i <=  -1:\n",
    "            k_type.append('Highly Platykurtic Curve')\n",
    "        elif -1 < i <= -0.5:\n",
    "            k_type.append('Moderately Platykurtic Curve')\n",
    "        elif -0.5 < i <= 0.5: \n",
    "            k_type.append('Mesokurtic Curve')\n",
    "        elif 0.5<= i < 1:\n",
    "            k_type.append('Moderately Leptokurtic Curve')\n",
    "        elif i >= 1:\n",
    "            k_type.append('Highly Leptokurtic Curve')\n",
    "            \n",
    "        \n",
    "    \n",
    "    result['Kurtosis_Type'] = k_type\n",
    "\n",
    "    #Outlier detection\n",
    "    \n",
    "\n",
    "    Upper_limit = stats['Quarter 3'] + 1.5*stats['IQR']\n",
    "    \n",
    "    lower_limit = stats['Quarter 1'] -1.5*stats['IQR']\n",
    "    \n",
    "    if len([x for x in df[col] if (x < lower_limit) or (x > Upper_limit)]) > 0:\n",
    "        \n",
    "        outlier_comment = 'has outliers'\n",
    "        outlier_percentage = len([x for x in df[col] if (x < lower_limit) or (x > Upper_limit)])/len(df)\n",
    "    else:\n",
    "        oulier_comment = 'no outliers'\n",
    "        \n",
    "        outlier_percentage = 0\n",
    "        \n",
    "    result['outlier_comment'] = outlier_comment\n",
    "    \n",
    "    result['outlier_percentage'] = outlier_percentage\n",
    "   \n",
    "    return result"
   ]
  },
  {
   "cell_type": "markdown",
   "id": "1aa04d8b",
   "metadata": {},
   "source": [
    "## new dataframe for contineous variables "
   ]
  },
  {
   "cell_type": "code",
   "execution_count": 10,
   "id": "fc76ac80",
   "metadata": {
    "ExecuteTime": {
     "end_time": "2022-05-20T11:29:36.429560Z",
     "start_time": "2022-05-20T11:29:36.311395Z"
    }
   },
   "outputs": [
    {
     "data": {
      "text/html": [
       "<div>\n",
       "<style scoped>\n",
       "    .dataframe tbody tr th:only-of-type {\n",
       "        vertical-align: middle;\n",
       "    }\n",
       "\n",
       "    .dataframe tbody tr th {\n",
       "        vertical-align: top;\n",
       "    }\n",
       "\n",
       "    .dataframe thead th {\n",
       "        text-align: right;\n",
       "    }\n",
       "</style>\n",
       "<table border=\"1\" class=\"dataframe\">\n",
       "  <thead>\n",
       "    <tr style=\"text-align: right;\">\n",
       "      <th></th>\n",
       "      <th>age</th>\n",
       "      <th>bmi</th>\n",
       "      <th>children</th>\n",
       "      <th>charges in INR</th>\n",
       "    </tr>\n",
       "  </thead>\n",
       "  <tbody>\n",
       "    <tr>\n",
       "      <th>0</th>\n",
       "      <td>19.0</td>\n",
       "      <td>27.900</td>\n",
       "      <td>0.0</td>\n",
       "      <td>16884.92400</td>\n",
       "    </tr>\n",
       "    <tr>\n",
       "      <th>1</th>\n",
       "      <td>18.0</td>\n",
       "      <td>33.770</td>\n",
       "      <td>1.0</td>\n",
       "      <td>1725.55230</td>\n",
       "    </tr>\n",
       "    <tr>\n",
       "      <th>2</th>\n",
       "      <td>28.0</td>\n",
       "      <td>33.000</td>\n",
       "      <td>3.0</td>\n",
       "      <td>4449.46200</td>\n",
       "    </tr>\n",
       "    <tr>\n",
       "      <th>3</th>\n",
       "      <td>33.0</td>\n",
       "      <td>22.705</td>\n",
       "      <td>0.0</td>\n",
       "      <td>21984.47061</td>\n",
       "    </tr>\n",
       "    <tr>\n",
       "      <th>4</th>\n",
       "      <td>32.0</td>\n",
       "      <td>28.880</td>\n",
       "      <td>0.0</td>\n",
       "      <td>3866.85520</td>\n",
       "    </tr>\n",
       "  </tbody>\n",
       "</table>\n",
       "</div>"
      ],
      "text/plain": [
       "    age     bmi  children  charges in INR\n",
       "0  19.0  27.900       0.0     16884.92400\n",
       "1  18.0  33.770       1.0      1725.55230\n",
       "2  28.0  33.000       3.0      4449.46200\n",
       "3  33.0  22.705       0.0     21984.47061\n",
       "4  32.0  28.880       0.0      3866.85520"
      ]
     },
     "execution_count": 10,
     "metadata": {},
     "output_type": "execute_result"
    }
   ],
   "source": [
    "df_eda = df[[\"age\",\"bmi\",\"children\",\"charges in INR\"]]\n",
    "df_eda.head() "
   ]
  },
  {
   "cell_type": "code",
   "execution_count": 11,
   "id": "00c897a3",
   "metadata": {
    "ExecuteTime": {
     "end_time": "2022-05-20T11:29:36.586366Z",
     "start_time": "2022-05-20T11:29:36.430564Z"
    }
   },
   "outputs": [
    {
     "data": {
      "text/html": [
       "<div>\n",
       "<style scoped>\n",
       "    .dataframe tbody tr th:only-of-type {\n",
       "        vertical-align: middle;\n",
       "    }\n",
       "\n",
       "    .dataframe tbody tr th {\n",
       "        vertical-align: top;\n",
       "    }\n",
       "\n",
       "    .dataframe thead th {\n",
       "        text-align: right;\n",
       "    }\n",
       "</style>\n",
       "<table border=\"1\" class=\"dataframe\">\n",
       "  <thead>\n",
       "    <tr style=\"text-align: right;\">\n",
       "      <th></th>\n",
       "      <th>Feature_Name</th>\n",
       "      <th>Count</th>\n",
       "      <th>Minimum</th>\n",
       "      <th>Quarter 1</th>\n",
       "      <th>Mean</th>\n",
       "      <th>Median</th>\n",
       "      <th>Quarter 3</th>\n",
       "      <th>Maximum</th>\n",
       "      <th>Variance</th>\n",
       "      <th>Standard Deviation</th>\n",
       "      <th>Kurtosis</th>\n",
       "      <th>Skewness</th>\n",
       "      <th>IQR</th>\n",
       "      <th>Skew_Type</th>\n",
       "      <th>Kurtosis_Type</th>\n",
       "      <th>outlier_comment</th>\n",
       "      <th>outlier_percentage</th>\n",
       "    </tr>\n",
       "  </thead>\n",
       "  <tbody>\n",
       "    <tr>\n",
       "      <th>0</th>\n",
       "      <td>age</td>\n",
       "      <td>1338</td>\n",
       "      <td>18.0000</td>\n",
       "      <td>27.00000</td>\n",
       "      <td>39.207025</td>\n",
       "      <td>39.000</td>\n",
       "      <td>51.000000</td>\n",
       "      <td>64.00000</td>\n",
       "      <td>1.974014e+02</td>\n",
       "      <td>14.049960</td>\n",
       "      <td>-1.245088</td>\n",
       "      <td>0.055673</td>\n",
       "      <td>24.000000</td>\n",
       "      <td>Approx Normal Distribution (+ve)</td>\n",
       "      <td>Highly Platykurtic Curve</td>\n",
       "      <td>has outliers</td>\n",
       "      <td>0.103886</td>\n",
       "    </tr>\n",
       "    <tr>\n",
       "      <th>1</th>\n",
       "      <td>bmi</td>\n",
       "      <td>1338</td>\n",
       "      <td>15.9600</td>\n",
       "      <td>26.29625</td>\n",
       "      <td>30.663397</td>\n",
       "      <td>30.400</td>\n",
       "      <td>34.693750</td>\n",
       "      <td>53.13000</td>\n",
       "      <td>3.718788e+01</td>\n",
       "      <td>6.098187</td>\n",
       "      <td>-0.050732</td>\n",
       "      <td>0.284047</td>\n",
       "      <td>8.397500</td>\n",
       "      <td>Approx Normal Distribution (+ve)</td>\n",
       "      <td>Mesokurtic Curve</td>\n",
       "      <td>has outliers</td>\n",
       "      <td>0.103886</td>\n",
       "    </tr>\n",
       "    <tr>\n",
       "      <th>2</th>\n",
       "      <td>children</td>\n",
       "      <td>1338</td>\n",
       "      <td>0.0000</td>\n",
       "      <td>0.00000</td>\n",
       "      <td>1.094918</td>\n",
       "      <td>1.000</td>\n",
       "      <td>2.000000</td>\n",
       "      <td>5.00000</td>\n",
       "      <td>1.453213e+00</td>\n",
       "      <td>1.205493</td>\n",
       "      <td>0.202454</td>\n",
       "      <td>0.938380</td>\n",
       "      <td>2.000000</td>\n",
       "      <td>Moderately Positively Skewed</td>\n",
       "      <td>Mesokurtic Curve</td>\n",
       "      <td>has outliers</td>\n",
       "      <td>0.103886</td>\n",
       "    </tr>\n",
       "    <tr>\n",
       "      <th>3</th>\n",
       "      <td>charges in INR</td>\n",
       "      <td>1338</td>\n",
       "      <td>1121.8739</td>\n",
       "      <td>4740.28715</td>\n",
       "      <td>13270.422265</td>\n",
       "      <td>9382.033</td>\n",
       "      <td>16639.912515</td>\n",
       "      <td>63770.42801</td>\n",
       "      <td>1.466524e+08</td>\n",
       "      <td>12110.011237</td>\n",
       "      <td>1.606299</td>\n",
       "      <td>1.515880</td>\n",
       "      <td>11899.625365</td>\n",
       "      <td>Highly Positively Skewed</td>\n",
       "      <td>Highly Leptokurtic Curve</td>\n",
       "      <td>has outliers</td>\n",
       "      <td>0.103886</td>\n",
       "    </tr>\n",
       "  </tbody>\n",
       "</table>\n",
       "</div>"
      ],
      "text/plain": [
       "     Feature_Name  Count    Minimum   Quarter 1          Mean    Median  \\\n",
       "0             age   1338    18.0000    27.00000     39.207025    39.000   \n",
       "1             bmi   1338    15.9600    26.29625     30.663397    30.400   \n",
       "2        children   1338     0.0000     0.00000      1.094918     1.000   \n",
       "3  charges in INR   1338  1121.8739  4740.28715  13270.422265  9382.033   \n",
       "\n",
       "      Quarter 3      Maximum      Variance  Standard Deviation  Kurtosis  \\\n",
       "0     51.000000     64.00000  1.974014e+02           14.049960 -1.245088   \n",
       "1     34.693750     53.13000  3.718788e+01            6.098187 -0.050732   \n",
       "2      2.000000      5.00000  1.453213e+00            1.205493  0.202454   \n",
       "3  16639.912515  63770.42801  1.466524e+08        12110.011237  1.606299   \n",
       "\n",
       "   Skewness           IQR                         Skew_Type  \\\n",
       "0  0.055673     24.000000  Approx Normal Distribution (+ve)   \n",
       "1  0.284047      8.397500  Approx Normal Distribution (+ve)   \n",
       "2  0.938380      2.000000      Moderately Positively Skewed   \n",
       "3  1.515880  11899.625365          Highly Positively Skewed   \n",
       "\n",
       "              Kurtosis_Type outlier_comment  outlier_percentage  \n",
       "0  Highly Platykurtic Curve    has outliers            0.103886  \n",
       "1          Mesokurtic Curve    has outliers            0.103886  \n",
       "2          Mesokurtic Curve    has outliers            0.103886  \n",
       "3  Highly Leptokurtic Curve    has outliers            0.103886  "
      ]
     },
     "execution_count": 11,
     "metadata": {},
     "output_type": "execute_result"
    }
   ],
   "source": [
    "custom_summary(df_eda) "
   ]
  },
  {
   "cell_type": "markdown",
   "id": "aa7f815f",
   "metadata": {},
   "source": [
    "### conclusions \n",
    "* age is distributed almost normally but its kurtosis is too low so we can say that there is no peakedness in age and it is highly platykurtic so curve should be very flat.\n",
    "* bmi is distributed approximately normally and it is mesokurtic so we can say that there is moderate peakedness in the distribution of bmi and mean is representing the data in some manner.\n",
    "* mean and median count of childrens in above data is 1 \n",
    "* all continues features contains outliers in same quantity so we can say that there are high chances of having some noisy records in the data"
   ]
  },
  {
   "cell_type": "markdown",
   "id": "d558046f",
   "metadata": {
    "ExecuteTime": {
     "end_time": "2022-05-17T18:05:28.775934Z",
     "start_time": "2022-05-17T18:05:28.771891Z"
    }
   },
   "source": [
    "## ODT plots : Outlier detection plot\n",
    "*in this we will plot three graphs\n",
    "*1 Boxplot for descriptive statistics\n",
    "*2 histogram with outliers\n",
    "*3 histogram without outliers "
   ]
  },
  {
   "cell_type": "code",
   "execution_count": 12,
   "id": "964afc54",
   "metadata": {
    "ExecuteTime": {
     "end_time": "2022-05-20T11:29:36.688479Z",
     "start_time": "2022-05-20T11:29:36.587401Z"
    }
   },
   "outputs": [],
   "source": [
    "def outlier_treatment(df,col,method=\"quartile\",strategy = \"median\"):\n",
    "    col_data = df[col]\n",
    "    \n",
    "    # using quartile method to find outliers \n",
    "    \n",
    "    if method == \"quartile\":\n",
    "        q2 = df[col].median()\n",
    "        q1 = df[col].quantile(0.25)\n",
    "        q3 = df[col].quantile(0.75)\n",
    "        iqr = q3-q1 \n",
    "        lowerlimit = q1 - 1.5*iqr\n",
    "        upperlimit = q3 + 1.5*iqr\n",
    "        \n",
    "     # using std dav method to find outliers \n",
    "    \n",
    "    elif method == \"standerd_daviation\":\n",
    "        col_mean = df[col].mean()\n",
    "        col_std = df[col].std()\n",
    "        lowerlimit = col_mean - 2*col_std\n",
    "        upperlimit = col_mean + 2*col_std\n",
    "        \n",
    "    else:\n",
    "        print(\"Pass a correct method\")\n",
    "        \n",
    "    # printing outliers \n",
    "    \n",
    "    outliers = df.loc[( col_data < lowerlimit ) | (col_data > upperlimit) ,col]\n",
    "    outlier_density = round(len(outliers)/len(df),2)\n",
    "    \n",
    "    if len(outliers) == 0 :\n",
    "        print(f\"the column {col} has no outliers\")\n",
    "    else:\n",
    "        print(f\"the column {col} has outliers\")\n",
    "        print(\"the outlier percentage is\", outlier_density)\n",
    "        print(\"outliers of column are : \")\n",
    "        display(df[( col_data < lowerlimit ) | (col_data > upperlimit)])\n",
    "    \n",
    "    ## replacing outliers \n",
    "    if strategy == \"median\":\n",
    "        df.loc[( col_data < lowerlimit ) | (col_data > upperlimit) ,col] = df[col].median()\n",
    "    \n",
    "    elif strategy == \"mean\":\n",
    "        df.loc[( col_data < lowerlimit ) | (col_data > upperlimit) ,col] = df[col].mean() \n",
    "        \n",
    "    elif strategy == \"lower_or_upper_whisker\":\n",
    "        df.loc[(col_data < lowerlimit ),col] = lowerlimit\n",
    "        df.loc[(col_data > upperlimit) ,col] = upperlimit\n",
    " \n",
    "    else:\n",
    "        print(\"Pass a correct strategy\")\n",
    "                      \n",
    "    return (df) "
   ]
  },
  {
   "cell_type": "code",
   "execution_count": 13,
   "id": "268a0462",
   "metadata": {
    "ExecuteTime": {
     "end_time": "2022-05-20T11:29:36.803953Z",
     "start_time": "2022-05-20T11:29:36.690484Z"
    }
   },
   "outputs": [],
   "source": [
    "def odt_plot(df,col):\n",
    "    f,(ax1,ax2,ax3) = plt.subplots(1,3,figsize=(14,6))\n",
    "    \n",
    "    # plotting boxplot \n",
    "    \n",
    "    sns.boxplot(df[col],ax=ax1)\n",
    "    ax1.set_title(col + \" Boxplot\")\n",
    "    ax1.set_xlabel(\"Boxplot\")\n",
    "    ax1.set_ylabel(\"Values\")\n",
    "    \n",
    "    # plotting Histogram with outliers \n",
    "    \n",
    "    sns.distplot(df[col],ax=ax2)\n",
    "    ax2.set_title(col + \" Histogram with outliers\")\n",
    "    ax2.set_xlabel(\"Density\")\n",
    "    ax2.set_ylabel(\"Values\")\n",
    "    \n",
    "    \n",
    "    # plotting Histogram without outliers \n",
    "    \n",
    "    y = outlier_treatment(df,col)\n",
    "    \n",
    "    sns.distplot(y[col],ax=ax3)\n",
    "    ax3.set_title(col + \" Histogram without outliers\")\n",
    "    ax3.set_xlabel(\"Density\")\n",
    "    ax3.set_ylabel(\"Values\") "
   ]
  },
  {
   "cell_type": "code",
   "execution_count": 14,
   "id": "708ea401",
   "metadata": {
    "ExecuteTime": {
     "end_time": "2022-05-20T11:29:38.424209Z",
     "start_time": "2022-05-20T11:29:36.805962Z"
    }
   },
   "outputs": [
    {
     "name": "stdout",
     "output_type": "stream",
     "text": [
      "the column age has no outliers\n",
      "the column bmi has outliers\n",
      "the outlier percentage is 0.01\n",
      "outliers of column are : \n"
     ]
    },
    {
     "data": {
      "text/html": [
       "<div>\n",
       "<style scoped>\n",
       "    .dataframe tbody tr th:only-of-type {\n",
       "        vertical-align: middle;\n",
       "    }\n",
       "\n",
       "    .dataframe tbody tr th {\n",
       "        vertical-align: top;\n",
       "    }\n",
       "\n",
       "    .dataframe thead th {\n",
       "        text-align: right;\n",
       "    }\n",
       "</style>\n",
       "<table border=\"1\" class=\"dataframe\">\n",
       "  <thead>\n",
       "    <tr style=\"text-align: right;\">\n",
       "      <th></th>\n",
       "      <th>age</th>\n",
       "      <th>bmi</th>\n",
       "      <th>children</th>\n",
       "      <th>charges in INR</th>\n",
       "    </tr>\n",
       "  </thead>\n",
       "  <tbody>\n",
       "    <tr>\n",
       "      <th>116</th>\n",
       "      <td>58.0</td>\n",
       "      <td>49.06</td>\n",
       "      <td>0.0</td>\n",
       "      <td>11381.32540</td>\n",
       "    </tr>\n",
       "    <tr>\n",
       "      <th>286</th>\n",
       "      <td>46.0</td>\n",
       "      <td>48.07</td>\n",
       "      <td>2.0</td>\n",
       "      <td>9432.92530</td>\n",
       "    </tr>\n",
       "    <tr>\n",
       "      <th>401</th>\n",
       "      <td>47.0</td>\n",
       "      <td>47.52</td>\n",
       "      <td>1.0</td>\n",
       "      <td>8083.91980</td>\n",
       "    </tr>\n",
       "    <tr>\n",
       "      <th>543</th>\n",
       "      <td>54.0</td>\n",
       "      <td>47.41</td>\n",
       "      <td>0.0</td>\n",
       "      <td>63770.42801</td>\n",
       "    </tr>\n",
       "    <tr>\n",
       "      <th>847</th>\n",
       "      <td>23.0</td>\n",
       "      <td>50.38</td>\n",
       "      <td>1.0</td>\n",
       "      <td>2438.05520</td>\n",
       "    </tr>\n",
       "    <tr>\n",
       "      <th>860</th>\n",
       "      <td>37.0</td>\n",
       "      <td>47.60</td>\n",
       "      <td>2.0</td>\n",
       "      <td>46113.51100</td>\n",
       "    </tr>\n",
       "    <tr>\n",
       "      <th>1047</th>\n",
       "      <td>22.0</td>\n",
       "      <td>52.58</td>\n",
       "      <td>1.0</td>\n",
       "      <td>44501.39820</td>\n",
       "    </tr>\n",
       "    <tr>\n",
       "      <th>1088</th>\n",
       "      <td>52.0</td>\n",
       "      <td>47.74</td>\n",
       "      <td>1.0</td>\n",
       "      <td>9748.91060</td>\n",
       "    </tr>\n",
       "    <tr>\n",
       "      <th>1317</th>\n",
       "      <td>18.0</td>\n",
       "      <td>53.13</td>\n",
       "      <td>0.0</td>\n",
       "      <td>1163.46270</td>\n",
       "    </tr>\n",
       "  </tbody>\n",
       "</table>\n",
       "</div>"
      ],
      "text/plain": [
       "       age    bmi  children  charges in INR\n",
       "116   58.0  49.06       0.0     11381.32540\n",
       "286   46.0  48.07       2.0      9432.92530\n",
       "401   47.0  47.52       1.0      8083.91980\n",
       "543   54.0  47.41       0.0     63770.42801\n",
       "847   23.0  50.38       1.0      2438.05520\n",
       "860   37.0  47.60       2.0     46113.51100\n",
       "1047  22.0  52.58       1.0     44501.39820\n",
       "1088  52.0  47.74       1.0      9748.91060\n",
       "1317  18.0  53.13       0.0      1163.46270"
      ]
     },
     "metadata": {},
     "output_type": "display_data"
    },
    {
     "name": "stdout",
     "output_type": "stream",
     "text": [
      "the column children has no outliers\n",
      "the column charges in INR has outliers\n",
      "the outlier percentage is 0.1\n",
      "outliers of column are : \n"
     ]
    },
    {
     "data": {
      "text/html": [
       "<div>\n",
       "<style scoped>\n",
       "    .dataframe tbody tr th:only-of-type {\n",
       "        vertical-align: middle;\n",
       "    }\n",
       "\n",
       "    .dataframe tbody tr th {\n",
       "        vertical-align: top;\n",
       "    }\n",
       "\n",
       "    .dataframe thead th {\n",
       "        text-align: right;\n",
       "    }\n",
       "</style>\n",
       "<table border=\"1\" class=\"dataframe\">\n",
       "  <thead>\n",
       "    <tr style=\"text-align: right;\">\n",
       "      <th></th>\n",
       "      <th>age</th>\n",
       "      <th>bmi</th>\n",
       "      <th>children</th>\n",
       "      <th>charges in INR</th>\n",
       "    </tr>\n",
       "  </thead>\n",
       "  <tbody>\n",
       "    <tr>\n",
       "      <th>14</th>\n",
       "      <td>27.0</td>\n",
       "      <td>42.130</td>\n",
       "      <td>0.0</td>\n",
       "      <td>39611.75770</td>\n",
       "    </tr>\n",
       "    <tr>\n",
       "      <th>19</th>\n",
       "      <td>30.0</td>\n",
       "      <td>35.300</td>\n",
       "      <td>0.0</td>\n",
       "      <td>36837.46700</td>\n",
       "    </tr>\n",
       "    <tr>\n",
       "      <th>23</th>\n",
       "      <td>34.0</td>\n",
       "      <td>31.920</td>\n",
       "      <td>1.0</td>\n",
       "      <td>37701.87680</td>\n",
       "    </tr>\n",
       "    <tr>\n",
       "      <th>29</th>\n",
       "      <td>31.0</td>\n",
       "      <td>36.300</td>\n",
       "      <td>2.0</td>\n",
       "      <td>38711.00000</td>\n",
       "    </tr>\n",
       "    <tr>\n",
       "      <th>30</th>\n",
       "      <td>22.0</td>\n",
       "      <td>35.600</td>\n",
       "      <td>0.0</td>\n",
       "      <td>35585.57600</td>\n",
       "    </tr>\n",
       "    <tr>\n",
       "      <th>...</th>\n",
       "      <td>...</td>\n",
       "      <td>...</td>\n",
       "      <td>...</td>\n",
       "      <td>...</td>\n",
       "    </tr>\n",
       "    <tr>\n",
       "      <th>1300</th>\n",
       "      <td>45.0</td>\n",
       "      <td>30.360</td>\n",
       "      <td>0.0</td>\n",
       "      <td>62592.87309</td>\n",
       "    </tr>\n",
       "    <tr>\n",
       "      <th>1301</th>\n",
       "      <td>62.0</td>\n",
       "      <td>30.875</td>\n",
       "      <td>3.0</td>\n",
       "      <td>46718.16325</td>\n",
       "    </tr>\n",
       "    <tr>\n",
       "      <th>1303</th>\n",
       "      <td>43.0</td>\n",
       "      <td>27.800</td>\n",
       "      <td>0.0</td>\n",
       "      <td>37829.72420</td>\n",
       "    </tr>\n",
       "    <tr>\n",
       "      <th>1313</th>\n",
       "      <td>19.0</td>\n",
       "      <td>34.700</td>\n",
       "      <td>2.0</td>\n",
       "      <td>36397.57600</td>\n",
       "    </tr>\n",
       "    <tr>\n",
       "      <th>1323</th>\n",
       "      <td>42.0</td>\n",
       "      <td>40.370</td>\n",
       "      <td>2.0</td>\n",
       "      <td>43896.37630</td>\n",
       "    </tr>\n",
       "  </tbody>\n",
       "</table>\n",
       "<p>139 rows × 4 columns</p>\n",
       "</div>"
      ],
      "text/plain": [
       "       age     bmi  children  charges in INR\n",
       "14    27.0  42.130       0.0     39611.75770\n",
       "19    30.0  35.300       0.0     36837.46700\n",
       "23    34.0  31.920       1.0     37701.87680\n",
       "29    31.0  36.300       2.0     38711.00000\n",
       "30    22.0  35.600       0.0     35585.57600\n",
       "...    ...     ...       ...             ...\n",
       "1300  45.0  30.360       0.0     62592.87309\n",
       "1301  62.0  30.875       3.0     46718.16325\n",
       "1303  43.0  27.800       0.0     37829.72420\n",
       "1313  19.0  34.700       2.0     36397.57600\n",
       "1323  42.0  40.370       2.0     43896.37630\n",
       "\n",
       "[139 rows x 4 columns]"
      ]
     },
     "metadata": {},
     "output_type": "display_data"
    },
    {
     "data": {
      "image/png": "[encoded data removed]",
      "text/plain": [
       "<Figure size 1008x432 with 3 Axes>"
      ]
     },
     "metadata": {
      "needs_background": "light"
     },
     "output_type": "display_data"
    },
    {
     "data": {
      "image/png": "[encoded data removed]",
      "text/plain": [
       "<Figure size 1008x432 with 3 Axes>"
      ]
     },
     "metadata": {
      "needs_background": "light"
     },
     "output_type": "display_data"
    },
    {
     "data": {
      "image/png": "[encoded data removed]",
      "text/plain": [
       "<Figure size 1008x432 with 3 Axes>"
      ]
     },
     "metadata": {
      "needs_background": "light"
     },
     "output_type": "display_data"
    },
    {
     "data": {
      "image/png": "[encoded data removed]",
      "text/plain": [
       "<Figure size 1008x432 with 3 Axes>"
      ]
     },
     "metadata": {
      "needs_background": "light"
     },
     "output_type": "display_data"
    }
   ],
   "source": [
    "for col in df_eda.columns:\n",
    "    odt_plot(df_eda,col)"
   ]
  },
  {
   "cell_type": "markdown",
   "id": "7ce8c65d",
   "metadata": {},
   "source": [
    "## Outlier treatment "
   ]
  },
  {
   "cell_type": "code",
   "execution_count": 15,
   "id": "5da4fe35",
   "metadata": {
    "ExecuteTime": {
     "end_time": "2022-05-20T11:29:38.461311Z",
     "start_time": "2022-05-20T11:29:38.426214Z"
    },
    "scrolled": true
   },
   "outputs": [
    {
     "name": "stdout",
     "output_type": "stream",
     "text": [
      "the column charges in INR has outliers\n",
      "the outlier percentage is 0.06\n",
      "outliers of column are : \n"
     ]
    },
    {
     "data": {
      "text/html": [
       "<div>\n",
       "<style scoped>\n",
       "    .dataframe tbody tr th:only-of-type {\n",
       "        vertical-align: middle;\n",
       "    }\n",
       "\n",
       "    .dataframe tbody tr th {\n",
       "        vertical-align: top;\n",
       "    }\n",
       "\n",
       "    .dataframe thead th {\n",
       "        text-align: right;\n",
       "    }\n",
       "</style>\n",
       "<table border=\"1\" class=\"dataframe\">\n",
       "  <thead>\n",
       "    <tr style=\"text-align: right;\">\n",
       "      <th></th>\n",
       "      <th>age</th>\n",
       "      <th>bmi</th>\n",
       "      <th>children</th>\n",
       "      <th>charges in INR</th>\n",
       "    </tr>\n",
       "  </thead>\n",
       "  <tbody>\n",
       "    <tr>\n",
       "      <th>9</th>\n",
       "      <td>60.0</td>\n",
       "      <td>25.840</td>\n",
       "      <td>0.0</td>\n",
       "      <td>28923.13692</td>\n",
       "    </tr>\n",
       "    <tr>\n",
       "      <th>11</th>\n",
       "      <td>62.0</td>\n",
       "      <td>26.290</td>\n",
       "      <td>0.0</td>\n",
       "      <td>27808.72510</td>\n",
       "    </tr>\n",
       "    <tr>\n",
       "      <th>52</th>\n",
       "      <td>48.0</td>\n",
       "      <td>28.000</td>\n",
       "      <td>1.0</td>\n",
       "      <td>23568.27200</td>\n",
       "    </tr>\n",
       "    <tr>\n",
       "      <th>57</th>\n",
       "      <td>18.0</td>\n",
       "      <td>31.680</td>\n",
       "      <td>2.0</td>\n",
       "      <td>34303.16720</td>\n",
       "    </tr>\n",
       "    <tr>\n",
       "      <th>62</th>\n",
       "      <td>64.0</td>\n",
       "      <td>24.700</td>\n",
       "      <td>1.0</td>\n",
       "      <td>30166.61817</td>\n",
       "    </tr>\n",
       "    <tr>\n",
       "      <th>...</th>\n",
       "      <td>...</td>\n",
       "      <td>...</td>\n",
       "      <td>...</td>\n",
       "      <td>...</td>\n",
       "    </tr>\n",
       "    <tr>\n",
       "      <th>1267</th>\n",
       "      <td>24.0</td>\n",
       "      <td>31.065</td>\n",
       "      <td>0.0</td>\n",
       "      <td>34254.05335</td>\n",
       "    </tr>\n",
       "    <tr>\n",
       "      <th>1281</th>\n",
       "      <td>47.0</td>\n",
       "      <td>27.645</td>\n",
       "      <td>2.0</td>\n",
       "      <td>24535.69855</td>\n",
       "    </tr>\n",
       "    <tr>\n",
       "      <th>1308</th>\n",
       "      <td>25.0</td>\n",
       "      <td>30.200</td>\n",
       "      <td>0.0</td>\n",
       "      <td>33900.65300</td>\n",
       "    </tr>\n",
       "    <tr>\n",
       "      <th>1321</th>\n",
       "      <td>62.0</td>\n",
       "      <td>26.695</td>\n",
       "      <td>0.0</td>\n",
       "      <td>28101.33305</td>\n",
       "    </tr>\n",
       "    <tr>\n",
       "      <th>1337</th>\n",
       "      <td>61.0</td>\n",
       "      <td>29.070</td>\n",
       "      <td>0.0</td>\n",
       "      <td>29141.36030</td>\n",
       "    </tr>\n",
       "  </tbody>\n",
       "</table>\n",
       "<p>82 rows × 4 columns</p>\n",
       "</div>"
      ],
      "text/plain": [
       "       age     bmi  children  charges in INR\n",
       "9     60.0  25.840       0.0     28923.13692\n",
       "11    62.0  26.290       0.0     27808.72510\n",
       "52    48.0  28.000       1.0     23568.27200\n",
       "57    18.0  31.680       2.0     34303.16720\n",
       "62    64.0  24.700       1.0     30166.61817\n",
       "...    ...     ...       ...             ...\n",
       "1267  24.0  31.065       0.0     34254.05335\n",
       "1281  47.0  27.645       2.0     24535.69855\n",
       "1308  25.0  30.200       0.0     33900.65300\n",
       "1321  62.0  26.695       0.0     28101.33305\n",
       "1337  61.0  29.070       0.0     29141.36030\n",
       "\n",
       "[82 rows x 4 columns]"
      ]
     },
     "metadata": {},
     "output_type": "display_data"
    },
    {
     "data": {
      "text/html": [
       "<div>\n",
       "<style scoped>\n",
       "    .dataframe tbody tr th:only-of-type {\n",
       "        vertical-align: middle;\n",
       "    }\n",
       "\n",
       "    .dataframe tbody tr th {\n",
       "        vertical-align: top;\n",
       "    }\n",
       "\n",
       "    .dataframe thead th {\n",
       "        text-align: right;\n",
       "    }\n",
       "</style>\n",
       "<table border=\"1\" class=\"dataframe\">\n",
       "  <thead>\n",
       "    <tr style=\"text-align: right;\">\n",
       "      <th></th>\n",
       "      <th>age</th>\n",
       "      <th>bmi</th>\n",
       "      <th>children</th>\n",
       "      <th>charges in INR</th>\n",
       "    </tr>\n",
       "  </thead>\n",
       "  <tbody>\n",
       "    <tr>\n",
       "      <th>0</th>\n",
       "      <td>19.0</td>\n",
       "      <td>27.900</td>\n",
       "      <td>0.0</td>\n",
       "      <td>16884.92400</td>\n",
       "    </tr>\n",
       "    <tr>\n",
       "      <th>1</th>\n",
       "      <td>18.0</td>\n",
       "      <td>33.770</td>\n",
       "      <td>1.0</td>\n",
       "      <td>1725.55230</td>\n",
       "    </tr>\n",
       "    <tr>\n",
       "      <th>2</th>\n",
       "      <td>28.0</td>\n",
       "      <td>33.000</td>\n",
       "      <td>3.0</td>\n",
       "      <td>4449.46200</td>\n",
       "    </tr>\n",
       "    <tr>\n",
       "      <th>3</th>\n",
       "      <td>33.0</td>\n",
       "      <td>22.705</td>\n",
       "      <td>0.0</td>\n",
       "      <td>21984.47061</td>\n",
       "    </tr>\n",
       "    <tr>\n",
       "      <th>4</th>\n",
       "      <td>32.0</td>\n",
       "      <td>28.880</td>\n",
       "      <td>0.0</td>\n",
       "      <td>3866.85520</td>\n",
       "    </tr>\n",
       "    <tr>\n",
       "      <th>...</th>\n",
       "      <td>...</td>\n",
       "      <td>...</td>\n",
       "      <td>...</td>\n",
       "      <td>...</td>\n",
       "    </tr>\n",
       "    <tr>\n",
       "      <th>1333</th>\n",
       "      <td>50.0</td>\n",
       "      <td>30.970</td>\n",
       "      <td>3.0</td>\n",
       "      <td>10600.54830</td>\n",
       "    </tr>\n",
       "    <tr>\n",
       "      <th>1334</th>\n",
       "      <td>18.0</td>\n",
       "      <td>31.920</td>\n",
       "      <td>0.0</td>\n",
       "      <td>2205.98080</td>\n",
       "    </tr>\n",
       "    <tr>\n",
       "      <th>1335</th>\n",
       "      <td>18.0</td>\n",
       "      <td>36.850</td>\n",
       "      <td>0.0</td>\n",
       "      <td>1629.83350</td>\n",
       "    </tr>\n",
       "    <tr>\n",
       "      <th>1336</th>\n",
       "      <td>21.0</td>\n",
       "      <td>25.800</td>\n",
       "      <td>0.0</td>\n",
       "      <td>2007.94500</td>\n",
       "    </tr>\n",
       "    <tr>\n",
       "      <th>1337</th>\n",
       "      <td>61.0</td>\n",
       "      <td>29.070</td>\n",
       "      <td>0.0</td>\n",
       "      <td>23563.13065</td>\n",
       "    </tr>\n",
       "  </tbody>\n",
       "</table>\n",
       "<p>1338 rows × 4 columns</p>\n",
       "</div>"
      ],
      "text/plain": [
       "       age     bmi  children  charges in INR\n",
       "0     19.0  27.900       0.0     16884.92400\n",
       "1     18.0  33.770       1.0      1725.55230\n",
       "2     28.0  33.000       3.0      4449.46200\n",
       "3     33.0  22.705       0.0     21984.47061\n",
       "4     32.0  28.880       0.0      3866.85520\n",
       "...    ...     ...       ...             ...\n",
       "1333  50.0  30.970       3.0     10600.54830\n",
       "1334  18.0  31.920       0.0      2205.98080\n",
       "1335  18.0  36.850       0.0      1629.83350\n",
       "1336  21.0  25.800       0.0      2007.94500\n",
       "1337  61.0  29.070       0.0     23563.13065\n",
       "\n",
       "[1338 rows x 4 columns]"
      ]
     },
     "execution_count": 15,
     "metadata": {},
     "output_type": "execute_result"
    }
   ],
   "source": [
    "outlier_treatment(df_eda,col,method=\"quartile\",strategy = \"lower_or_upper_whisker\")"
   ]
  },
  {
   "cell_type": "code",
   "execution_count": 16,
   "id": "a0d2e410",
   "metadata": {
    "ExecuteTime": {
     "end_time": "2022-05-20T11:29:38.656147Z",
     "start_time": "2022-05-20T11:29:38.462314Z"
    }
   },
   "outputs": [
    {
     "data": {
      "text/html": [
       "<div>\n",
       "<style scoped>\n",
       "    .dataframe tbody tr th:only-of-type {\n",
       "        vertical-align: middle;\n",
       "    }\n",
       "\n",
       "    .dataframe tbody tr th {\n",
       "        vertical-align: top;\n",
       "    }\n",
       "\n",
       "    .dataframe thead th {\n",
       "        text-align: right;\n",
       "    }\n",
       "</style>\n",
       "<table border=\"1\" class=\"dataframe\">\n",
       "  <thead>\n",
       "    <tr style=\"text-align: right;\">\n",
       "      <th></th>\n",
       "      <th>age</th>\n",
       "      <th>bmi</th>\n",
       "      <th>children</th>\n",
       "      <th>charges in INR</th>\n",
       "    </tr>\n",
       "  </thead>\n",
       "  <tbody>\n",
       "    <tr>\n",
       "      <th>0</th>\n",
       "      <td>19.0</td>\n",
       "      <td>27.900</td>\n",
       "      <td>0.0</td>\n",
       "      <td>16884.92400</td>\n",
       "    </tr>\n",
       "    <tr>\n",
       "      <th>1</th>\n",
       "      <td>18.0</td>\n",
       "      <td>33.770</td>\n",
       "      <td>1.0</td>\n",
       "      <td>1725.55230</td>\n",
       "    </tr>\n",
       "    <tr>\n",
       "      <th>2</th>\n",
       "      <td>28.0</td>\n",
       "      <td>33.000</td>\n",
       "      <td>3.0</td>\n",
       "      <td>4449.46200</td>\n",
       "    </tr>\n",
       "    <tr>\n",
       "      <th>3</th>\n",
       "      <td>33.0</td>\n",
       "      <td>22.705</td>\n",
       "      <td>0.0</td>\n",
       "      <td>21984.47061</td>\n",
       "    </tr>\n",
       "    <tr>\n",
       "      <th>4</th>\n",
       "      <td>32.0</td>\n",
       "      <td>28.880</td>\n",
       "      <td>0.0</td>\n",
       "      <td>3866.85520</td>\n",
       "    </tr>\n",
       "    <tr>\n",
       "      <th>...</th>\n",
       "      <td>...</td>\n",
       "      <td>...</td>\n",
       "      <td>...</td>\n",
       "      <td>...</td>\n",
       "    </tr>\n",
       "    <tr>\n",
       "      <th>1333</th>\n",
       "      <td>50.0</td>\n",
       "      <td>30.970</td>\n",
       "      <td>3.0</td>\n",
       "      <td>10600.54830</td>\n",
       "    </tr>\n",
       "    <tr>\n",
       "      <th>1334</th>\n",
       "      <td>18.0</td>\n",
       "      <td>31.920</td>\n",
       "      <td>0.0</td>\n",
       "      <td>2205.98080</td>\n",
       "    </tr>\n",
       "    <tr>\n",
       "      <th>1335</th>\n",
       "      <td>18.0</td>\n",
       "      <td>36.850</td>\n",
       "      <td>0.0</td>\n",
       "      <td>1629.83350</td>\n",
       "    </tr>\n",
       "    <tr>\n",
       "      <th>1336</th>\n",
       "      <td>21.0</td>\n",
       "      <td>25.800</td>\n",
       "      <td>0.0</td>\n",
       "      <td>2007.94500</td>\n",
       "    </tr>\n",
       "    <tr>\n",
       "      <th>1337</th>\n",
       "      <td>61.0</td>\n",
       "      <td>29.070</td>\n",
       "      <td>0.0</td>\n",
       "      <td>23563.13065</td>\n",
       "    </tr>\n",
       "  </tbody>\n",
       "</table>\n",
       "<p>1338 rows × 4 columns</p>\n",
       "</div>"
      ],
      "text/plain": [
       "       age     bmi  children  charges in INR\n",
       "0     19.0  27.900       0.0     16884.92400\n",
       "1     18.0  33.770       1.0      1725.55230\n",
       "2     28.0  33.000       3.0      4449.46200\n",
       "3     33.0  22.705       0.0     21984.47061\n",
       "4     32.0  28.880       0.0      3866.85520\n",
       "...    ...     ...       ...             ...\n",
       "1333  50.0  30.970       3.0     10600.54830\n",
       "1334  18.0  31.920       0.0      2205.98080\n",
       "1335  18.0  36.850       0.0      1629.83350\n",
       "1336  21.0  25.800       0.0      2007.94500\n",
       "1337  61.0  29.070       0.0     23563.13065\n",
       "\n",
       "[1338 rows x 4 columns]"
      ]
     },
     "execution_count": 16,
     "metadata": {},
     "output_type": "execute_result"
    }
   ],
   "source": [
    "df_eda "
   ]
  },
  {
   "cell_type": "markdown",
   "id": "5f1cef0b",
   "metadata": {
    "ExecuteTime": {
     "end_time": "2022-05-17T18:48:30.893433Z",
     "start_time": "2022-05-17T18:48:30.890425Z"
    }
   },
   "source": [
    "## Replacing treated features with non-treated features in Dataframe "
   ]
  },
  {
   "cell_type": "code",
   "execution_count": 17,
   "id": "ecf3a245",
   "metadata": {
    "ExecuteTime": {
     "end_time": "2022-05-20T11:29:38.812714Z",
     "start_time": "2022-05-20T11:29:38.657111Z"
    }
   },
   "outputs": [],
   "source": [
    "#df[\"age\"] = df_eda[\"age\"]\n",
    "#df[\"bmi\"] = df_eda[\"bmi\"]\n",
    "#df[\"children\"] = df_eda[\"children\"]\n",
    "\n",
    "#df[\"charges in INR\"] = df_eda[\"charges in INR\"] "
   ]
  },
  {
   "cell_type": "code",
   "execution_count": 18,
   "id": "6a530fa3",
   "metadata": {
    "ExecuteTime": {
     "end_time": "2022-05-20T11:29:39.006091Z",
     "start_time": "2022-05-20T11:29:38.816727Z"
    }
   },
   "outputs": [
    {
     "data": {
      "text/html": [
       "<div>\n",
       "<style scoped>\n",
       "    .dataframe tbody tr th:only-of-type {\n",
       "        vertical-align: middle;\n",
       "    }\n",
       "\n",
       "    .dataframe tbody tr th {\n",
       "        vertical-align: top;\n",
       "    }\n",
       "\n",
       "    .dataframe thead th {\n",
       "        text-align: right;\n",
       "    }\n",
       "</style>\n",
       "<table border=\"1\" class=\"dataframe\">\n",
       "  <thead>\n",
       "    <tr style=\"text-align: right;\">\n",
       "      <th></th>\n",
       "      <th>Policy no.</th>\n",
       "      <th>age</th>\n",
       "      <th>sex</th>\n",
       "      <th>bmi</th>\n",
       "      <th>charges in INR</th>\n",
       "      <th>children</th>\n",
       "      <th>smoker</th>\n",
       "      <th>region</th>\n",
       "    </tr>\n",
       "  </thead>\n",
       "  <tbody>\n",
       "    <tr>\n",
       "      <th>0</th>\n",
       "      <td>PLC156898</td>\n",
       "      <td>19.0</td>\n",
       "      <td>0</td>\n",
       "      <td>27.900</td>\n",
       "      <td>16884.92400</td>\n",
       "      <td>0.0</td>\n",
       "      <td>1</td>\n",
       "      <td>3</td>\n",
       "    </tr>\n",
       "    <tr>\n",
       "      <th>1</th>\n",
       "      <td>PLC156907</td>\n",
       "      <td>18.0</td>\n",
       "      <td>1</td>\n",
       "      <td>33.770</td>\n",
       "      <td>1725.55230</td>\n",
       "      <td>1.0</td>\n",
       "      <td>0</td>\n",
       "      <td>2</td>\n",
       "    </tr>\n",
       "    <tr>\n",
       "      <th>2</th>\n",
       "      <td>PLC156916</td>\n",
       "      <td>28.0</td>\n",
       "      <td>1</td>\n",
       "      <td>33.000</td>\n",
       "      <td>4449.46200</td>\n",
       "      <td>3.0</td>\n",
       "      <td>0</td>\n",
       "      <td>2</td>\n",
       "    </tr>\n",
       "    <tr>\n",
       "      <th>3</th>\n",
       "      <td>PLC156925</td>\n",
       "      <td>33.0</td>\n",
       "      <td>1</td>\n",
       "      <td>22.705</td>\n",
       "      <td>21984.47061</td>\n",
       "      <td>0.0</td>\n",
       "      <td>0</td>\n",
       "      <td>1</td>\n",
       "    </tr>\n",
       "    <tr>\n",
       "      <th>4</th>\n",
       "      <td>PLC156934</td>\n",
       "      <td>32.0</td>\n",
       "      <td>1</td>\n",
       "      <td>28.880</td>\n",
       "      <td>3866.85520</td>\n",
       "      <td>0.0</td>\n",
       "      <td>0</td>\n",
       "      <td>1</td>\n",
       "    </tr>\n",
       "    <tr>\n",
       "      <th>...</th>\n",
       "      <td>...</td>\n",
       "      <td>...</td>\n",
       "      <td>...</td>\n",
       "      <td>...</td>\n",
       "      <td>...</td>\n",
       "      <td>...</td>\n",
       "      <td>...</td>\n",
       "      <td>...</td>\n",
       "    </tr>\n",
       "    <tr>\n",
       "      <th>1333</th>\n",
       "      <td>PLC168895</td>\n",
       "      <td>50.0</td>\n",
       "      <td>1</td>\n",
       "      <td>30.970</td>\n",
       "      <td>10600.54830</td>\n",
       "      <td>3.0</td>\n",
       "      <td>0</td>\n",
       "      <td>1</td>\n",
       "    </tr>\n",
       "    <tr>\n",
       "      <th>1334</th>\n",
       "      <td>PLC168904</td>\n",
       "      <td>18.0</td>\n",
       "      <td>0</td>\n",
       "      <td>31.920</td>\n",
       "      <td>2205.98080</td>\n",
       "      <td>0.0</td>\n",
       "      <td>0</td>\n",
       "      <td>0</td>\n",
       "    </tr>\n",
       "    <tr>\n",
       "      <th>1335</th>\n",
       "      <td>PLC168913</td>\n",
       "      <td>18.0</td>\n",
       "      <td>0</td>\n",
       "      <td>36.850</td>\n",
       "      <td>1629.83350</td>\n",
       "      <td>0.0</td>\n",
       "      <td>0</td>\n",
       "      <td>2</td>\n",
       "    </tr>\n",
       "    <tr>\n",
       "      <th>1336</th>\n",
       "      <td>PLC168922</td>\n",
       "      <td>21.0</td>\n",
       "      <td>0</td>\n",
       "      <td>25.800</td>\n",
       "      <td>2007.94500</td>\n",
       "      <td>0.0</td>\n",
       "      <td>0</td>\n",
       "      <td>3</td>\n",
       "    </tr>\n",
       "    <tr>\n",
       "      <th>1337</th>\n",
       "      <td>PLC168931</td>\n",
       "      <td>61.0</td>\n",
       "      <td>0</td>\n",
       "      <td>29.070</td>\n",
       "      <td>29141.36030</td>\n",
       "      <td>0.0</td>\n",
       "      <td>1</td>\n",
       "      <td>1</td>\n",
       "    </tr>\n",
       "  </tbody>\n",
       "</table>\n",
       "<p>1338 rows × 8 columns</p>\n",
       "</div>"
      ],
      "text/plain": [
       "     Policy no.   age  sex     bmi  charges in INR  children  smoker  region\n",
       "0     PLC156898  19.0    0  27.900     16884.92400       0.0       1       3\n",
       "1     PLC156907  18.0    1  33.770      1725.55230       1.0       0       2\n",
       "2     PLC156916  28.0    1  33.000      4449.46200       3.0       0       2\n",
       "3     PLC156925  33.0    1  22.705     21984.47061       0.0       0       1\n",
       "4     PLC156934  32.0    1  28.880      3866.85520       0.0       0       1\n",
       "...         ...   ...  ...     ...             ...       ...     ...     ...\n",
       "1333  PLC168895  50.0    1  30.970     10600.54830       3.0       0       1\n",
       "1334  PLC168904  18.0    0  31.920      2205.98080       0.0       0       0\n",
       "1335  PLC168913  18.0    0  36.850      1629.83350       0.0       0       2\n",
       "1336  PLC168922  21.0    0  25.800      2007.94500       0.0       0       3\n",
       "1337  PLC168931  61.0    0  29.070     29141.36030       0.0       1       1\n",
       "\n",
       "[1338 rows x 8 columns]"
      ]
     },
     "execution_count": 18,
     "metadata": {},
     "output_type": "execute_result"
    }
   ],
   "source": [
    "df "
   ]
  },
  {
   "cell_type": "code",
   "execution_count": 19,
   "id": "c0e054ae",
   "metadata": {
    "ExecuteTime": {
     "end_time": "2022-05-20T11:29:39.115082Z",
     "start_time": "2022-05-20T11:29:39.010102Z"
    }
   },
   "outputs": [
    {
     "data": {
      "text/html": [
       "<div>\n",
       "<style scoped>\n",
       "    .dataframe tbody tr th:only-of-type {\n",
       "        vertical-align: middle;\n",
       "    }\n",
       "\n",
       "    .dataframe tbody tr th {\n",
       "        vertical-align: top;\n",
       "    }\n",
       "\n",
       "    .dataframe thead th {\n",
       "        text-align: right;\n",
       "    }\n",
       "</style>\n",
       "<table border=\"1\" class=\"dataframe\">\n",
       "  <thead>\n",
       "    <tr style=\"text-align: right;\">\n",
       "      <th></th>\n",
       "      <th>age</th>\n",
       "      <th>sex</th>\n",
       "      <th>bmi</th>\n",
       "      <th>charges in INR</th>\n",
       "      <th>children</th>\n",
       "      <th>smoker</th>\n",
       "      <th>region</th>\n",
       "    </tr>\n",
       "  </thead>\n",
       "  <tbody>\n",
       "    <tr>\n",
       "      <th>0</th>\n",
       "      <td>19.0</td>\n",
       "      <td>0</td>\n",
       "      <td>27.900</td>\n",
       "      <td>16884.92400</td>\n",
       "      <td>0.0</td>\n",
       "      <td>1</td>\n",
       "      <td>3</td>\n",
       "    </tr>\n",
       "    <tr>\n",
       "      <th>1</th>\n",
       "      <td>18.0</td>\n",
       "      <td>1</td>\n",
       "      <td>33.770</td>\n",
       "      <td>1725.55230</td>\n",
       "      <td>1.0</td>\n",
       "      <td>0</td>\n",
       "      <td>2</td>\n",
       "    </tr>\n",
       "    <tr>\n",
       "      <th>2</th>\n",
       "      <td>28.0</td>\n",
       "      <td>1</td>\n",
       "      <td>33.000</td>\n",
       "      <td>4449.46200</td>\n",
       "      <td>3.0</td>\n",
       "      <td>0</td>\n",
       "      <td>2</td>\n",
       "    </tr>\n",
       "    <tr>\n",
       "      <th>3</th>\n",
       "      <td>33.0</td>\n",
       "      <td>1</td>\n",
       "      <td>22.705</td>\n",
       "      <td>21984.47061</td>\n",
       "      <td>0.0</td>\n",
       "      <td>0</td>\n",
       "      <td>1</td>\n",
       "    </tr>\n",
       "    <tr>\n",
       "      <th>4</th>\n",
       "      <td>32.0</td>\n",
       "      <td>1</td>\n",
       "      <td>28.880</td>\n",
       "      <td>3866.85520</td>\n",
       "      <td>0.0</td>\n",
       "      <td>0</td>\n",
       "      <td>1</td>\n",
       "    </tr>\n",
       "  </tbody>\n",
       "</table>\n",
       "</div>"
      ],
      "text/plain": [
       "    age  sex     bmi  charges in INR  children  smoker  region\n",
       "0  19.0    0  27.900     16884.92400       0.0       1       3\n",
       "1  18.0    1  33.770      1725.55230       1.0       0       2\n",
       "2  28.0    1  33.000      4449.46200       3.0       0       2\n",
       "3  33.0    1  22.705     21984.47061       0.0       0       1\n",
       "4  32.0    1  28.880      3866.85520       0.0       0       1"
      ]
     },
     "execution_count": 19,
     "metadata": {},
     "output_type": "execute_result"
    }
   ],
   "source": [
    "df = df.drop(\"Policy no.\",axis=1) \n",
    "df.head() "
   ]
  },
  {
   "cell_type": "markdown",
   "id": "45be399a",
   "metadata": {},
   "source": [
    "## multivariate analysis"
   ]
  },
  {
   "cell_type": "code",
   "execution_count": 20,
   "id": "72a43870",
   "metadata": {
    "ExecuteTime": {
     "end_time": "2022-05-20T11:29:40.830924Z",
     "start_time": "2022-05-20T11:29:39.116085Z"
    }
   },
   "outputs": [
    {
     "data": {
      "image/png": "[encoded data removed]",
      "text/plain": [
       "<Figure size 864x432 with 1 Axes>"
      ]
     },
     "metadata": {
      "needs_background": "light"
     },
     "output_type": "display_data"
    },
    {
     "data": {
      "image/png": "[encoded data removed]",
      "text/plain": [
       "<Figure size 864x432 with 1 Axes>"
      ]
     },
     "metadata": {
      "needs_background": "light"
     },
     "output_type": "display_data"
    },
    {
     "data": {
      "image/png": "[encoded data removed]",
      "text/plain": [
       "<Figure size 864x432 with 1 Axes>"
      ]
     },
     "metadata": {
      "needs_background": "light"
     },
     "output_type": "display_data"
    },
    {
     "data": {
      "image/png": "[encoded data removed]",
      "text/plain": [
       "<Figure size 864x432 with 1 Axes>"
      ]
     },
     "metadata": {
      "needs_background": "light"
     },
     "output_type": "display_data"
    },
    {
     "data": {
      "image/png": "[encoded data removed]",
      "text/plain": [
       "<Figure size 864x432 with 1 Axes>"
      ]
     },
     "metadata": {
      "needs_background": "light"
     },
     "output_type": "display_data"
    },
    {
     "data": {
      "image/png": "[encoded data removed]",
      "text/plain": [
       "<Figure size 864x432 with 1 Axes>"
      ]
     },
     "metadata": {
      "needs_background": "light"
     },
     "output_type": "display_data"
    }
   ],
   "source": [
    "for col in df.columns:\n",
    "    if col != \"charges in INR\":\n",
    "        f,ax = plt.subplots(figsize = (12,6))\n",
    "        sns.regplot(x=df[col],y=df_eda[\"charges in INR\"],ax=ax).set_title(f\"Relationship between {col} and charges in INR\") "
   ]
  },
  {
   "cell_type": "markdown",
   "id": "362ad84f",
   "metadata": {},
   "source": [
    "## conclusions drawn from multi-variate analysis "
   ]
  },
  {
   "cell_type": "code",
   "execution_count": 21,
   "id": "2272ec0e",
   "metadata": {
    "ExecuteTime": {
     "end_time": "2022-05-20T11:29:40.836940Z",
     "start_time": "2022-05-20T11:29:40.831926Z"
    }
   },
   "outputs": [],
   "source": [
    "def correlation_target(df,t_col):\n",
    "    ind_var = df.drop(t_col,axis=1).columns \n",
    "    corr_result = []\n",
    "    for col in ind_var:\n",
    "        corr_result.append(df[t_col].corr(df[col]))\n",
    "        \n",
    "    result_df = pd.DataFrame([ind_var,corr_result],index=[\"variable\",\"correaltion\"]).T\n",
    "    return result_df.sort_values(\"correaltion\",ascending=False)"
   ]
  },
  {
   "cell_type": "code",
   "execution_count": 22,
   "id": "99506ffc",
   "metadata": {
    "ExecuteTime": {
     "end_time": "2022-05-20T11:29:41.041243Z",
     "start_time": "2022-05-20T11:29:40.838946Z"
    }
   },
   "outputs": [
    {
     "data": {
      "text/html": [
       "<div>\n",
       "<style scoped>\n",
       "    .dataframe tbody tr th:only-of-type {\n",
       "        vertical-align: middle;\n",
       "    }\n",
       "\n",
       "    .dataframe tbody tr th {\n",
       "        vertical-align: top;\n",
       "    }\n",
       "\n",
       "    .dataframe thead th {\n",
       "        text-align: right;\n",
       "    }\n",
       "</style>\n",
       "<table border=\"1\" class=\"dataframe\">\n",
       "  <thead>\n",
       "    <tr style=\"text-align: right;\">\n",
       "      <th></th>\n",
       "      <th>variable</th>\n",
       "      <th>correaltion</th>\n",
       "    </tr>\n",
       "  </thead>\n",
       "  <tbody>\n",
       "    <tr>\n",
       "      <th>4</th>\n",
       "      <td>smoker</td>\n",
       "      <td>0.787251</td>\n",
       "    </tr>\n",
       "    <tr>\n",
       "      <th>0</th>\n",
       "      <td>age</td>\n",
       "      <td>0.299008</td>\n",
       "    </tr>\n",
       "    <tr>\n",
       "      <th>2</th>\n",
       "      <td>bmi</td>\n",
       "      <td>0.198341</td>\n",
       "    </tr>\n",
       "    <tr>\n",
       "      <th>3</th>\n",
       "      <td>children</td>\n",
       "      <td>0.067998</td>\n",
       "    </tr>\n",
       "    <tr>\n",
       "      <th>1</th>\n",
       "      <td>sex</td>\n",
       "      <td>0.057292</td>\n",
       "    </tr>\n",
       "    <tr>\n",
       "      <th>5</th>\n",
       "      <td>region</td>\n",
       "      <td>-0.006208</td>\n",
       "    </tr>\n",
       "  </tbody>\n",
       "</table>\n",
       "</div>"
      ],
      "text/plain": [
       "   variable correaltion\n",
       "4    smoker    0.787251\n",
       "0       age    0.299008\n",
       "2       bmi    0.198341\n",
       "3  children    0.067998\n",
       "1       sex    0.057292\n",
       "5    region   -0.006208"
      ]
     },
     "execution_count": 22,
     "metadata": {},
     "output_type": "execute_result"
    }
   ],
   "source": [
    "correlation_target(df,\"charges in INR\") "
   ]
  },
  {
   "cell_type": "markdown",
   "id": "593c0a5b",
   "metadata": {},
   "source": [
    "## multi-covariate analysis relationship % \n",
    "* Age and charges has positive correlation of 45%\n",
    "* Smoker and charges has positive correlation of 44%\n",
    "* No. of children and charges has slight positive correlation of 9%\n",
    "* sex and charges has slight positive correltion of 5% only\n",
    "* bmi and charges has slight negative correltion of 6% only \n",
    "* region and charges has slight negative correltion of 8% only \n",
    "\n",
    "* so we can say that age and smoking type is affecting our charges most.\n"
   ]
  },
  {
   "cell_type": "markdown",
   "id": "73bd63be",
   "metadata": {},
   "source": [
    "## 1. Gender of a person doesn't affect much for extendeing policies to the companies as charges and sex has only 5% correlation with each other.\n"
   ]
  },
  {
   "cell_type": "markdown",
   "id": "8b1b195d",
   "metadata": {},
   "source": [
    "## checking for multicollinearity"
   ]
  },
  {
   "cell_type": "code",
   "execution_count": 23,
   "id": "b9667b80",
   "metadata": {
    "ExecuteTime": {
     "end_time": "2022-05-20T11:29:41.545007Z",
     "start_time": "2022-05-20T11:29:41.043250Z"
    }
   },
   "outputs": [
    {
     "data": {
      "text/plain": [
       "<AxesSubplot:>"
      ]
     },
     "execution_count": 23,
     "metadata": {},
     "output_type": "execute_result"
    },
    {
     "data": {
      "image/png": "[encoded data removed]",
      "text/plain": [
       "<Figure size 720x720 with 2 Axes>"
      ]
     },
     "metadata": {
      "needs_background": "light"
     },
     "output_type": "display_data"
    }
   ],
   "source": [
    "cor = df.corr()\n",
    "f,ax = plt.subplots(figsize=(10,10))\n",
    "sns.heatmap(cor,annot=True) "
   ]
  },
  {
   "cell_type": "markdown",
   "id": "1935d013",
   "metadata": {
    "ExecuteTime": {
     "end_time": "2022-05-18T01:45:29.697137Z",
     "start_time": "2022-05-18T01:45:29.681136Z"
    }
   },
   "source": [
    "### No multicollinearity is present in independant variables we can see that from above graph "
   ]
  },
  {
   "cell_type": "code",
   "execution_count": 24,
   "id": "512e52f0",
   "metadata": {
    "ExecuteTime": {
     "end_time": "2022-05-20T11:29:41.552024Z",
     "start_time": "2022-05-20T11:29:41.547011Z"
    }
   },
   "outputs": [],
   "source": [
    "def vif(ind_var):\n",
    "    from statsmodels.stats.outliers_influence import variance_inflation_factor\n",
    "    result_df = pd.DataFrame() \n",
    "    result_df[\"Feature\"] = ind_var.columns\n",
    "    result_df[\"vif\"] = [variance_inflation_factor(ind_var.values,i)for i in range(ind_var.shape[1])]\n",
    "    return result_df"
   ]
  },
  {
   "cell_type": "code",
   "execution_count": 25,
   "id": "00c9c212",
   "metadata": {
    "ExecuteTime": {
     "end_time": "2022-05-20T11:29:43.003792Z",
     "start_time": "2022-05-20T11:29:41.553027Z"
    }
   },
   "outputs": [
    {
     "data": {
      "text/html": [
       "<div>\n",
       "<style scoped>\n",
       "    .dataframe tbody tr th:only-of-type {\n",
       "        vertical-align: middle;\n",
       "    }\n",
       "\n",
       "    .dataframe tbody tr th {\n",
       "        vertical-align: top;\n",
       "    }\n",
       "\n",
       "    .dataframe thead th {\n",
       "        text-align: right;\n",
       "    }\n",
       "</style>\n",
       "<table border=\"1\" class=\"dataframe\">\n",
       "  <thead>\n",
       "    <tr style=\"text-align: right;\">\n",
       "      <th></th>\n",
       "      <th>Feature</th>\n",
       "      <th>vif</th>\n",
       "    </tr>\n",
       "  </thead>\n",
       "  <tbody>\n",
       "    <tr>\n",
       "      <th>0</th>\n",
       "      <td>age</td>\n",
       "      <td>7.551348</td>\n",
       "    </tr>\n",
       "    <tr>\n",
       "      <th>1</th>\n",
       "      <td>sex</td>\n",
       "      <td>2.001061</td>\n",
       "    </tr>\n",
       "    <tr>\n",
       "      <th>2</th>\n",
       "      <td>bmi</td>\n",
       "      <td>10.371829</td>\n",
       "    </tr>\n",
       "    <tr>\n",
       "      <th>3</th>\n",
       "      <td>children</td>\n",
       "      <td>1.801245</td>\n",
       "    </tr>\n",
       "    <tr>\n",
       "      <th>4</th>\n",
       "      <td>smoker</td>\n",
       "      <td>1.256837</td>\n",
       "    </tr>\n",
       "    <tr>\n",
       "      <th>5</th>\n",
       "      <td>region</td>\n",
       "      <td>2.924528</td>\n",
       "    </tr>\n",
       "  </tbody>\n",
       "</table>\n",
       "</div>"
      ],
      "text/plain": [
       "    Feature        vif\n",
       "0       age   7.551348\n",
       "1       sex   2.001061\n",
       "2       bmi  10.371829\n",
       "3  children   1.801245\n",
       "4    smoker   1.256837\n",
       "5    region   2.924528"
      ]
     },
     "execution_count": 25,
     "metadata": {},
     "output_type": "execute_result"
    }
   ],
   "source": [
    "vif(df.drop([\"charges in INR\"],axis=1))"
   ]
  },
  {
   "cell_type": "code",
   "execution_count": 26,
   "id": "af44787a",
   "metadata": {
    "ExecuteTime": {
     "end_time": "2022-05-20T11:29:43.104479Z",
     "start_time": "2022-05-20T11:29:43.005797Z"
    }
   },
   "outputs": [],
   "source": [
    "def apply_pca(x):\n",
    "    \n",
    "    col = []\n",
    "    n_comp = len(x.columns)\n",
    "    \n",
    "    \n",
    "    scaler = StandardScaler().fit_transform(x)\n",
    "    \n",
    "    for i in range(1, n_comp):\n",
    "        \n",
    "        pca = PCA(n_components=i)\n",
    "        p_component = pca.fit_transform(scaler)\n",
    "        \n",
    "        evr = np.cumsum(pca.explained_variance_ratio_)\n",
    "        \n",
    "        if evr[i-1]>0.9:\n",
    "            \n",
    "            z = i\n",
    "            break\n",
    "            \n",
    "    print(\"Explained Variance Ratio\", evr)\n",
    "    \n",
    "    for j in range(1, z+1):\n",
    "        \n",
    "        col.append(\"PC_\"+str(j))\n",
    "        \n",
    "    result = pd.DataFrame(p_component, columns=col)\n",
    "    \n",
    "    return result "
   ]
  },
  {
   "cell_type": "code",
   "execution_count": 27,
   "id": "dcca91ce",
   "metadata": {
    "ExecuteTime": {
     "end_time": "2022-05-20T11:29:43.228214Z",
     "start_time": "2022-05-20T11:29:43.105482Z"
    }
   },
   "outputs": [],
   "source": [
    "x = df.drop([\"charges in INR\"],axis=1) "
   ]
  },
  {
   "cell_type": "markdown",
   "id": "d3db2a42",
   "metadata": {
    "ExecuteTime": {
     "end_time": "2022-05-20T11:37:00.439443Z",
     "start_time": "2022-05-20T11:37:00.428415Z"
    }
   },
   "source": [
    "## Principle component analysis "
   ]
  },
  {
   "cell_type": "code",
   "execution_count": 82,
   "id": "b162b93c",
   "metadata": {
    "ExecuteTime": {
     "end_time": "2022-05-20T11:46:21.542067Z",
     "start_time": "2022-05-20T11:46:21.532072Z"
    }
   },
   "outputs": [
    {
     "data": {
      "text/plain": [
       "array([[-1.8277924 ,  0.73977143,  0.0325539 , -0.98822171,  2.30057023,\n",
       "        -0.74793581],\n",
       "       [-1.64502948,  1.04751547, -0.11944082, -0.0690024 , -1.00984289,\n",
       "         0.04181474],\n",
       "       [-1.08129143,  1.11323853,  0.1984568 ,  1.54743161, -0.92272967,\n",
       "        -0.00920351],\n",
       "       ...,\n",
       "       [-1.56462225,  0.5998142 , -1.55878598, -0.73294396,  0.28208679,\n",
       "         0.7873672 ],\n",
       "       [-1.6982766 ,  0.01968129, -1.54394156, -0.55240661,  0.59167204,\n",
       "        -1.12175198],\n",
       "       [ 1.61126427, -0.75494452,  0.8903542 , -1.15666377,  1.98504095,\n",
       "         0.16792792]])"
      ]
     },
     "execution_count": 82,
     "metadata": {},
     "output_type": "execute_result"
    }
   ],
   "source": [
    "sc = StandardScaler() \n",
    "x = sc.fit_transform(X_new)\n",
    "pca = PCA(n_components=6)\n",
    "p_componentss = pca.fit_transform(x) \n",
    "p_componentss "
   ]
  },
  {
   "cell_type": "code",
   "execution_count": 83,
   "id": "522c68e0",
   "metadata": {
    "ExecuteTime": {
     "end_time": "2022-05-20T11:46:24.193390Z",
     "start_time": "2022-05-20T11:46:24.185403Z"
    }
   },
   "outputs": [
    {
     "data": {
      "text/plain": [
       "array([0.27191229, 0.16551302, 0.15261673, 0.14195164, 0.13208956,\n",
       "       0.11766792])"
      ]
     },
     "execution_count": 83,
     "metadata": {},
     "output_type": "execute_result"
    }
   ],
   "source": [
    "pca.explained_variance_ratio_ "
   ]
  },
  {
   "cell_type": "code",
   "execution_count": 84,
   "id": "c6676c38",
   "metadata": {
    "ExecuteTime": {
     "end_time": "2022-05-20T11:47:00.587869Z",
     "start_time": "2022-05-20T11:47:00.583890Z"
    }
   },
   "outputs": [],
   "source": [
    "xx_new = pd.DataFrame(p_componentss,columns=[\"pc1\",\"pc2\",\"pc3\",\"pc4\",\"pc5\",\"pc6\"]) "
   ]
  },
  {
   "cell_type": "code",
   "execution_count": 85,
   "id": "496a701b",
   "metadata": {
    "ExecuteTime": {
     "end_time": "2022-05-20T11:47:03.510558Z",
     "start_time": "2022-05-20T11:47:03.493515Z"
    }
   },
   "outputs": [
    {
     "data": {
      "text/html": [
       "<div>\n",
       "<style scoped>\n",
       "    .dataframe tbody tr th:only-of-type {\n",
       "        vertical-align: middle;\n",
       "    }\n",
       "\n",
       "    .dataframe tbody tr th {\n",
       "        vertical-align: top;\n",
       "    }\n",
       "\n",
       "    .dataframe thead th {\n",
       "        text-align: right;\n",
       "    }\n",
       "</style>\n",
       "<table border=\"1\" class=\"dataframe\">\n",
       "  <thead>\n",
       "    <tr style=\"text-align: right;\">\n",
       "      <th></th>\n",
       "      <th>pc1</th>\n",
       "      <th>pc2</th>\n",
       "      <th>pc3</th>\n",
       "      <th>pc4</th>\n",
       "      <th>pc5</th>\n",
       "      <th>pc6</th>\n",
       "    </tr>\n",
       "  </thead>\n",
       "  <tbody>\n",
       "    <tr>\n",
       "      <th>0</th>\n",
       "      <td>-1.827792</td>\n",
       "      <td>0.739771</td>\n",
       "      <td>0.032554</td>\n",
       "      <td>-0.988222</td>\n",
       "      <td>2.300570</td>\n",
       "      <td>-0.747936</td>\n",
       "    </tr>\n",
       "    <tr>\n",
       "      <th>1</th>\n",
       "      <td>-1.645029</td>\n",
       "      <td>1.047515</td>\n",
       "      <td>-0.119441</td>\n",
       "      <td>-0.069002</td>\n",
       "      <td>-1.009843</td>\n",
       "      <td>0.041815</td>\n",
       "    </tr>\n",
       "    <tr>\n",
       "      <th>2</th>\n",
       "      <td>-1.081291</td>\n",
       "      <td>1.113239</td>\n",
       "      <td>0.198457</td>\n",
       "      <td>1.547432</td>\n",
       "      <td>-0.922730</td>\n",
       "      <td>-0.009204</td>\n",
       "    </tr>\n",
       "    <tr>\n",
       "      <th>3</th>\n",
       "      <td>-1.290856</td>\n",
       "      <td>-0.886295</td>\n",
       "      <td>0.449327</td>\n",
       "      <td>-0.717825</td>\n",
       "      <td>-1.082744</td>\n",
       "      <td>-0.815908</td>\n",
       "    </tr>\n",
       "    <tr>\n",
       "      <th>4</th>\n",
       "      <td>-1.165899</td>\n",
       "      <td>-0.238912</td>\n",
       "      <td>0.263610</td>\n",
       "      <td>-0.819159</td>\n",
       "      <td>-1.154645</td>\n",
       "      <td>-0.078443</td>\n",
       "    </tr>\n",
       "    <tr>\n",
       "      <th>...</th>\n",
       "      <td>...</td>\n",
       "      <td>...</td>\n",
       "      <td>...</td>\n",
       "      <td>...</td>\n",
       "      <td>...</td>\n",
       "      <td>...</td>\n",
       "    </tr>\n",
       "    <tr>\n",
       "      <th>1333</th>\n",
       "      <td>1.307884</td>\n",
       "      <td>-0.001449</td>\n",
       "      <td>0.761077</td>\n",
       "      <td>1.463598</td>\n",
       "      <td>-1.040571</td>\n",
       "      <td>0.053177</td>\n",
       "    </tr>\n",
       "    <tr>\n",
       "      <th>1334</th>\n",
       "      <td>-1.764004</td>\n",
       "      <td>-1.083974</td>\n",
       "      <td>-0.770009</td>\n",
       "      <td>-0.652904</td>\n",
       "      <td>-0.020823</td>\n",
       "      <td>1.368657</td>\n",
       "    </tr>\n",
       "    <tr>\n",
       "      <th>1335</th>\n",
       "      <td>-1.564622</td>\n",
       "      <td>0.599814</td>\n",
       "      <td>-1.558786</td>\n",
       "      <td>-0.732944</td>\n",
       "      <td>0.282087</td>\n",
       "      <td>0.787367</td>\n",
       "    </tr>\n",
       "    <tr>\n",
       "      <th>1336</th>\n",
       "      <td>-1.698277</td>\n",
       "      <td>0.019681</td>\n",
       "      <td>-1.543942</td>\n",
       "      <td>-0.552407</td>\n",
       "      <td>0.591672</td>\n",
       "      <td>-1.121752</td>\n",
       "    </tr>\n",
       "    <tr>\n",
       "      <th>1337</th>\n",
       "      <td>1.611264</td>\n",
       "      <td>-0.754945</td>\n",
       "      <td>0.890354</td>\n",
       "      <td>-1.156664</td>\n",
       "      <td>1.985041</td>\n",
       "      <td>0.167928</td>\n",
       "    </tr>\n",
       "  </tbody>\n",
       "</table>\n",
       "<p>1338 rows × 6 columns</p>\n",
       "</div>"
      ],
      "text/plain": [
       "           pc1       pc2       pc3       pc4       pc5       pc6\n",
       "0    -1.827792  0.739771  0.032554 -0.988222  2.300570 -0.747936\n",
       "1    -1.645029  1.047515 -0.119441 -0.069002 -1.009843  0.041815\n",
       "2    -1.081291  1.113239  0.198457  1.547432 -0.922730 -0.009204\n",
       "3    -1.290856 -0.886295  0.449327 -0.717825 -1.082744 -0.815908\n",
       "4    -1.165899 -0.238912  0.263610 -0.819159 -1.154645 -0.078443\n",
       "...        ...       ...       ...       ...       ...       ...\n",
       "1333  1.307884 -0.001449  0.761077  1.463598 -1.040571  0.053177\n",
       "1334 -1.764004 -1.083974 -0.770009 -0.652904 -0.020823  1.368657\n",
       "1335 -1.564622  0.599814 -1.558786 -0.732944  0.282087  0.787367\n",
       "1336 -1.698277  0.019681 -1.543942 -0.552407  0.591672 -1.121752\n",
       "1337  1.611264 -0.754945  0.890354 -1.156664  1.985041  0.167928\n",
       "\n",
       "[1338 rows x 6 columns]"
      ]
     },
     "execution_count": 85,
     "metadata": {},
     "output_type": "execute_result"
    }
   ],
   "source": [
    "xx_new "
   ]
  },
  {
   "cell_type": "markdown",
   "id": "33190184",
   "metadata": {},
   "source": [
    "## 6. It is needed for the company to understand whether the person covered is a smoker or a non-smoker because smoking habit is affecting charges most and there are 79 % chances of increase in charges as person is a smoker."
   ]
  },
  {
   "cell_type": "markdown",
   "id": "347b15bc",
   "metadata": {},
   "source": [
    "## Model Building "
   ]
  },
  {
   "cell_type": "code",
   "execution_count": 33,
   "id": "8b5221ee",
   "metadata": {
    "ExecuteTime": {
     "end_time": "2022-05-20T11:29:44.324314Z",
     "start_time": "2022-05-20T11:29:44.211588Z"
    }
   },
   "outputs": [
    {
     "data": {
      "text/html": [
       "<div>\n",
       "<style scoped>\n",
       "    .dataframe tbody tr th:only-of-type {\n",
       "        vertical-align: middle;\n",
       "    }\n",
       "\n",
       "    .dataframe tbody tr th {\n",
       "        vertical-align: top;\n",
       "    }\n",
       "\n",
       "    .dataframe thead th {\n",
       "        text-align: right;\n",
       "    }\n",
       "</style>\n",
       "<table border=\"1\" class=\"dataframe\">\n",
       "  <thead>\n",
       "    <tr style=\"text-align: right;\">\n",
       "      <th></th>\n",
       "      <th>charges</th>\n",
       "    </tr>\n",
       "  </thead>\n",
       "  <tbody>\n",
       "    <tr>\n",
       "      <th>0</th>\n",
       "      <td>16884.92400</td>\n",
       "    </tr>\n",
       "    <tr>\n",
       "      <th>1</th>\n",
       "      <td>1725.55230</td>\n",
       "    </tr>\n",
       "    <tr>\n",
       "      <th>2</th>\n",
       "      <td>4449.46200</td>\n",
       "    </tr>\n",
       "    <tr>\n",
       "      <th>3</th>\n",
       "      <td>21984.47061</td>\n",
       "    </tr>\n",
       "    <tr>\n",
       "      <th>4</th>\n",
       "      <td>3866.85520</td>\n",
       "    </tr>\n",
       "  </tbody>\n",
       "</table>\n",
       "</div>"
      ],
      "text/plain": [
       "       charges\n",
       "0  16884.92400\n",
       "1   1725.55230\n",
       "2   4449.46200\n",
       "3  21984.47061\n",
       "4   3866.85520"
      ]
     },
     "execution_count": 33,
     "metadata": {},
     "output_type": "execute_result"
    }
   ],
   "source": [
    "X = df.drop(\"charges in INR\",axis=1)\n",
    "#X = df.drop([\"charges in INR\",\"sex\",\"region\"],axis=1)\n",
    "#sc = StandardScaler() \n",
    "#X = sc.fit_transform(X)\n",
    "y = df[[\"charges in INR\"]]\n",
    "y[\"charges\"] = y[\"charges in INR\"]\n",
    "y.drop(\"charges in INR\",axis=1,inplace=True)  \n",
    "y.head()"
   ]
  },
  {
   "cell_type": "code",
   "execution_count": 34,
   "id": "6d945c84",
   "metadata": {
    "ExecuteTime": {
     "end_time": "2022-05-20T11:29:44.481024Z",
     "start_time": "2022-05-20T11:29:44.325316Z"
    }
   },
   "outputs": [],
   "source": [
    "def train_and_test_split(x,y,test_size=0.2):\n",
    "    return train_test_split(x,y,test_size=test_size,random_state=40)"
   ]
  },
  {
   "cell_type": "code",
   "execution_count": 35,
   "id": "a5892d46",
   "metadata": {
    "ExecuteTime": {
     "end_time": "2022-05-20T11:29:44.598249Z",
     "start_time": "2022-05-20T11:29:44.484034Z"
    }
   },
   "outputs": [],
   "source": [
    "def build_model(model_name,estimator,x,y):\n",
    "    x_train,x_test,y_train,y_test = train_and_test_split(x,y) \n",
    "    estimator.fit(x_train,y_train)\n",
    "    y_pred = estimator.predict(x_test) \n",
    "    r2score = r2_score(y_test,y_pred)\n",
    "    rmse = np.sqrt(mean_squared_error(y_test,y_pred))\n",
    "    temp = [model_name,r2score,rmse] \n",
    "    \n",
    "    return temp "
   ]
  },
  {
   "cell_type": "code",
   "execution_count": 36,
   "id": "9db1b7ed",
   "metadata": {
    "ExecuteTime": {
     "end_time": "2022-05-20T11:29:44.853219Z",
     "start_time": "2022-05-20T11:29:44.603229Z"
    }
   },
   "outputs": [],
   "source": [
    "def build_multiple_model(x,y):\n",
    "    result_df = pd.DataFrame(columns=[\"Model_Name\",\"R2_Score\",\"RMSE\"])\n",
    "    \n",
    "    result_df.loc[len(result_df)] = build_model(\"Linear_Regression\",LinearRegression(),x,y)\n",
    "    result_df.loc[len(result_df)] = build_model(\"Lasso_Reression\",Lasso(),x,y)\n",
    "    result_df.loc[len(result_df)] = build_model(\"Ridge_Regression\",Ridge(),x,y) \n",
    "    result_df.loc[len(result_df)] = build_model(\"KNN_Regression\",KNeighborsRegressor(),x,y) \n",
    "    result_df.loc[len(result_df)] = build_model(\"Decision_Tree_Regression\",DecisionTreeRegressor(),x,y) \n",
    "    result_df.loc[len(result_df)] = build_model(\"Random_Forest_Regression\",RandomForestRegressor(),x,y) \n",
    "    result_df.loc[len(result_df)] = build_model(\"Adaboost_Regression\",AdaBoostRegressor(),x,y) \n",
    "    result_df.loc[len(result_df)] = build_model(\"GBoost_Regression\",GradientBoostingRegressor(),x,y) \n",
    "    result_df.loc[len(result_df)] = build_model(\"XGB_Regression\",XGBRegressor(),x,y) \n",
    "    result_df.loc[len(result_df)] = build_model(\"Support_Vector_Regression\",SVR(),x,y) \n",
    "    \n",
    "    return result_df.sort_values(\"R2_Score\",ascending=False)  "
   ]
  },
  {
   "cell_type": "code",
   "execution_count": 37,
   "id": "8a9168fe",
   "metadata": {
    "ExecuteTime": {
     "end_time": "2022-05-20T11:29:45.686156Z",
     "start_time": "2022-05-20T11:29:44.856202Z"
    }
   },
   "outputs": [
    {
     "data": {
      "text/html": [
       "<div>\n",
       "<style scoped>\n",
       "    .dataframe tbody tr th:only-of-type {\n",
       "        vertical-align: middle;\n",
       "    }\n",
       "\n",
       "    .dataframe tbody tr th {\n",
       "        vertical-align: top;\n",
       "    }\n",
       "\n",
       "    .dataframe thead th {\n",
       "        text-align: right;\n",
       "    }\n",
       "</style>\n",
       "<table border=\"1\" class=\"dataframe\">\n",
       "  <thead>\n",
       "    <tr style=\"text-align: right;\">\n",
       "      <th></th>\n",
       "      <th>Model_Name</th>\n",
       "      <th>R2_Score</th>\n",
       "      <th>RMSE</th>\n",
       "    </tr>\n",
       "  </thead>\n",
       "  <tbody>\n",
       "    <tr>\n",
       "      <th>7</th>\n",
       "      <td>GBoost_Regression</td>\n",
       "      <td>0.854289</td>\n",
       "      <td>4667.225579</td>\n",
       "    </tr>\n",
       "    <tr>\n",
       "      <th>5</th>\n",
       "      <td>Random_Forest_Regression</td>\n",
       "      <td>0.847199</td>\n",
       "      <td>4779.429594</td>\n",
       "    </tr>\n",
       "    <tr>\n",
       "      <th>8</th>\n",
       "      <td>XGB_Regression</td>\n",
       "      <td>0.815468</td>\n",
       "      <td>5252.295526</td>\n",
       "    </tr>\n",
       "    <tr>\n",
       "      <th>6</th>\n",
       "      <td>Adaboost_Regression</td>\n",
       "      <td>0.814376</td>\n",
       "      <td>5267.812758</td>\n",
       "    </tr>\n",
       "    <tr>\n",
       "      <th>4</th>\n",
       "      <td>Decision_Tree_Regression</td>\n",
       "      <td>0.756642</td>\n",
       "      <td>6031.647589</td>\n",
       "    </tr>\n",
       "    <tr>\n",
       "      <th>0</th>\n",
       "      <td>Linear_Regression</td>\n",
       "      <td>0.734046</td>\n",
       "      <td>6305.444029</td>\n",
       "    </tr>\n",
       "    <tr>\n",
       "      <th>1</th>\n",
       "      <td>Lasso_Reression</td>\n",
       "      <td>0.734042</td>\n",
       "      <td>6305.501635</td>\n",
       "    </tr>\n",
       "    <tr>\n",
       "      <th>2</th>\n",
       "      <td>Ridge_Regression</td>\n",
       "      <td>0.733933</td>\n",
       "      <td>6306.789227</td>\n",
       "    </tr>\n",
       "    <tr>\n",
       "      <th>3</th>\n",
       "      <td>KNN_Regression</td>\n",
       "      <td>0.099165</td>\n",
       "      <td>11604.739127</td>\n",
       "    </tr>\n",
       "    <tr>\n",
       "      <th>9</th>\n",
       "      <td>Support_Vector_Regression</td>\n",
       "      <td>-0.089624</td>\n",
       "      <td>12762.947813</td>\n",
       "    </tr>\n",
       "  </tbody>\n",
       "</table>\n",
       "</div>"
      ],
      "text/plain": [
       "                  Model_Name  R2_Score          RMSE\n",
       "7          GBoost_Regression  0.854289   4667.225579\n",
       "5   Random_Forest_Regression  0.847199   4779.429594\n",
       "8             XGB_Regression  0.815468   5252.295526\n",
       "6        Adaboost_Regression  0.814376   5267.812758\n",
       "4   Decision_Tree_Regression  0.756642   6031.647589\n",
       "0          Linear_Regression  0.734046   6305.444029\n",
       "1            Lasso_Reression  0.734042   6305.501635\n",
       "2           Ridge_Regression  0.733933   6306.789227\n",
       "3             KNN_Regression  0.099165  11604.739127\n",
       "9  Support_Vector_Regression -0.089624  12762.947813"
      ]
     },
     "execution_count": 37,
     "metadata": {},
     "output_type": "execute_result"
    }
   ],
   "source": [
    "build_multiple_model(X,y)"
   ]
  },
  {
   "cell_type": "markdown",
   "id": "4b06d087",
   "metadata": {},
   "source": [
    "## Hyper Parameter Tunning "
   ]
  },
  {
   "cell_type": "code",
   "execution_count": 38,
   "id": "2af3df96",
   "metadata": {
    "ExecuteTime": {
     "end_time": "2022-05-20T11:29:45.700203Z",
     "start_time": "2022-05-20T11:29:45.688162Z"
    }
   },
   "outputs": [],
   "source": [
    "def hyperparameter_tunning(x,y,fold=10):\n",
    "    param_ls = {\"alpha\": [1e-15, 1e-13,1e-11,1e-9,1e-7,1e-5, 1e-3,0.001,0.01,0.1,1,2,3,4,5,6,7,8,9,10,20,30,40,50,60,70,80,90,100,200,300,400,500]}\n",
    "    param_rd = {\"alpha\": [1e-15, 1e-13,1e-11,1e-9,1e-7,1e-5, 1e-3,0.001,0.01,0.1,1,2,3,4,5,6,7,8,9,10,20,30,40,50,60,70,80,90,100,200,300,400,500]}\n",
    "    param_knn = {\"n_neighbors\":[1,2,3,4,5,6,7,8,9,10,11,12,13,14,15]}\n",
    "    param_adb = {\"n_estimators\" : [1,2,3,4,5,6,7,8,9,10,20,30,40,50,60,70,80,90,100,200,300,400,500],\n",
    "         \"learning_rate\" : [0.00001,0.0001,0.001,0.01,0.1,0.2,0.3,0.4,0.5,0.6,0.7,0.8,0.9,1.0]}\n",
    "    param_gb = {\"alpha\": [0,0.1,0.2,0.3,0.4,0.5,0.6,0.7,0.8,0.9,1.0],\"learning_rate\" : [0.001,0.01,0.1,0.2,0.3,0.4,0.5,0.6,0.7,0.8,0.9,1]}\n",
    "    param_xgb = {'learning_rate' : [0.001,0.01,0.1,0.2,0.3,0.4,0.5,0.6,0.7,0.8,0.9,1.0],\n",
    "         'reg_lambda' : [1,2,3,4,5,6,7,8,9,10],\n",
    "         'max_depth': [1,2,3,4,5,6,7,8,9,10]}\n",
    "    param_rf = {\"n_estimators\":[10,20,30,40,50,60,70,80,90,110,130,150,170,190],'min_impurity_decrease':[0.0,0.5,1],\n",
    "               \"bootstrap\":[True,False]}\n",
    "\n",
    "                \n",
    "    tunned_lasso=GridSearchCV(Lasso(),param_ls,cv=fold)\n",
    "    tunned_ridge=GridSearchCV(Ridge(),param_rd,cv=fold)\n",
    "    tunned_knn=GridSearchCV(KNeighborsRegressor(),param_knn,cv=fold)       \n",
    "    tunned_adb=GridSearchCV(AdaBoostRegressor(),param_adb,cv=fold)\n",
    "    tunned_gb=GridSearchCV(GradientBoostingRegressor(),param_gb,cv=fold) \n",
    "    tunned_xgb=GridSearchCV(XGBRegressor(),param_xgb,cv=fold)\n",
    "    tunned_rf=GridSearchCV(RandomForestRegressor(),param_rf,cv=fold)\n",
    "                \n",
    "                \n",
    "    tunned_lasso.fit(x,y)\n",
    "    tunned_ridge.fit(x,y)\n",
    "    tunned_knn.fit(x,y)\n",
    "    tunned_adb.fit(x,y)\n",
    "    tunned_gb.fit(x,y)\n",
    "    tunned_xgb.fit(x,y)\n",
    "    tunned_rf.fit(x,y)\n",
    "                \n",
    "    \n",
    "    tunned = [tunned_lasso,tunned_ridge,tunned_knn,tunned_adb,tunned_gb,tunned_xgb,tunned_rf]\n",
    "    models = [\"Lasso\",\"Ridge\",\"KNeighborRegressor\",\"AdaBoostRegressor\",\"GradientBoostingRegressor\",\"XGBRegressor\",\"RandomForestRegressor\"]\n",
    "                \n",
    "    for i in range (0,len(tunned)):\n",
    "        print(\"model\",models[i])\n",
    "        print(\"best_parameters\",tunned[i].best_params_)"
   ]
  },
  {
   "cell_type": "code",
   "execution_count": 39,
   "id": "cb80326e",
   "metadata": {
    "ExecuteTime": {
     "end_time": "2022-05-20T11:29:45.824330Z",
     "start_time": "2022-05-20T11:29:45.701195Z"
    }
   },
   "outputs": [],
   "source": [
    "#hyperparameter_tunning(X,y,fold=10)"
   ]
  },
  {
   "cell_type": "code",
   "execution_count": 40,
   "id": "52df7d5a",
   "metadata": {
    "ExecuteTime": {
     "end_time": "2022-05-20T11:29:45.969882Z",
     "start_time": "2022-05-20T11:29:45.829347Z"
    }
   },
   "outputs": [],
   "source": [
    "def k_fold_cv_tunned(x,y,fold=10):\n",
    "    \n",
    "    score_lr = cross_val_score(LinearRegression(),x,y,cv=fold)\n",
    "    score_la = cross_val_score(Lasso(alpha = 60),x,y,cv=fold)\n",
    "    score_rd = cross_val_score(Ridge(alpha= 1),x,y,cv=fold)\n",
    "    score_dtr = cross_val_score(DecisionTreeRegressor(),x,y,cv=fold)\n",
    "    score_knn = cross_val_score(KNeighborsRegressor(n_neighbors= 13),x,y,cv=fold)\n",
    "    score_rf = cross_val_score(RandomForestRegressor(bootstrap= True, min_impurity_decrease= 1, n_estimators= 150),x,y,cv=fold)\n",
    "    score_ad = cross_val_score(AdaBoostRegressor(learning_rate= 0.001, n_estimators= 20),x,y,cv=fold)\n",
    "    score_g = cross_val_score(GradientBoostingRegressor(alpha= 0.6, learning_rate= 0.1),x,y,cv=fold)\n",
    "    score_xgb = cross_val_score(XGBRegressor(learning_rate= 0.1, max_depth= 2, reg_lambda= 3),x,y,cv=fold)\n",
    "    score_svr = cross_val_score(SVR(),x,y,cv=fold)\n",
    "    \n",
    "    score = [score_lr,score_la,score_rd,score_dtr,score_knn,score_rf,score_ad,score_g,score_xgb,score_svr]\n",
    "    models = [\"Linear Regression\",\"Lasso Regression\",\"Ridge Regression\",\"Decision Tree Regression\",\"KNN Regression\",\"Random forest Regression\",\"Adaboost Regression\",\"GBoost Regression\",\"XGBoost Regression\",\"Support vector machines Regression\"]\n",
    "    \n",
    "    result = []\n",
    "    \n",
    "    for i in range(0,len(models)):\n",
    "        score_mean = np.mean(score[i]) \n",
    "        score_std = np.std(score[i]) \n",
    "        model_name = models[i]\n",
    "        temp = [model_name,score_mean,score_std]\n",
    "        result.append(temp)\n",
    "        \n",
    "    result_df = pd.DataFrame(result,columns=[\"model_name\",\"score_mean\",\"score_std\"])\n",
    "    \n",
    "    return result_df.sort_values(\"score_mean\",ascending=False)"
   ]
  },
  {
   "cell_type": "code",
   "execution_count": 41,
   "id": "f06ee7f5",
   "metadata": {
    "ExecuteTime": {
     "end_time": "2022-05-20T11:29:53.426660Z",
     "start_time": "2022-05-20T11:29:45.972783Z"
    }
   },
   "outputs": [
    {
     "data": {
      "text/html": [
       "<div>\n",
       "<style scoped>\n",
       "    .dataframe tbody tr th:only-of-type {\n",
       "        vertical-align: middle;\n",
       "    }\n",
       "\n",
       "    .dataframe tbody tr th {\n",
       "        vertical-align: top;\n",
       "    }\n",
       "\n",
       "    .dataframe thead th {\n",
       "        text-align: right;\n",
       "    }\n",
       "</style>\n",
       "<table border=\"1\" class=\"dataframe\">\n",
       "  <thead>\n",
       "    <tr style=\"text-align: right;\">\n",
       "      <th></th>\n",
       "      <th>model_name</th>\n",
       "      <th>score_mean</th>\n",
       "      <th>score_std</th>\n",
       "    </tr>\n",
       "  </thead>\n",
       "  <tbody>\n",
       "    <tr>\n",
       "      <th>8</th>\n",
       "      <td>XGBoost Regression</td>\n",
       "      <td>0.860001</td>\n",
       "      <td>0.044084</td>\n",
       "    </tr>\n",
       "    <tr>\n",
       "      <th>7</th>\n",
       "      <td>GBoost Regression</td>\n",
       "      <td>0.856153</td>\n",
       "      <td>0.045455</td>\n",
       "    </tr>\n",
       "    <tr>\n",
       "      <th>6</th>\n",
       "      <td>Adaboost Regression</td>\n",
       "      <td>0.849305</td>\n",
       "      <td>0.048613</td>\n",
       "    </tr>\n",
       "    <tr>\n",
       "      <th>5</th>\n",
       "      <td>Random forest Regression</td>\n",
       "      <td>0.832789</td>\n",
       "      <td>0.046191</td>\n",
       "    </tr>\n",
       "    <tr>\n",
       "      <th>1</th>\n",
       "      <td>Lasso Regression</td>\n",
       "      <td>0.745119</td>\n",
       "      <td>0.040579</td>\n",
       "    </tr>\n",
       "    <tr>\n",
       "      <th>2</th>\n",
       "      <td>Ridge Regression</td>\n",
       "      <td>0.744818</td>\n",
       "      <td>0.041491</td>\n",
       "    </tr>\n",
       "    <tr>\n",
       "      <th>0</th>\n",
       "      <td>Linear Regression</td>\n",
       "      <td>0.744805</td>\n",
       "      <td>0.041861</td>\n",
       "    </tr>\n",
       "    <tr>\n",
       "      <th>3</th>\n",
       "      <td>Decision Tree Regression</td>\n",
       "      <td>0.700240</td>\n",
       "      <td>0.048611</td>\n",
       "    </tr>\n",
       "    <tr>\n",
       "      <th>4</th>\n",
       "      <td>KNN Regression</td>\n",
       "      <td>0.160897</td>\n",
       "      <td>0.068411</td>\n",
       "    </tr>\n",
       "    <tr>\n",
       "      <th>9</th>\n",
       "      <td>Support vector machines Regression</td>\n",
       "      <td>-0.104918</td>\n",
       "      <td>0.030712</td>\n",
       "    </tr>\n",
       "  </tbody>\n",
       "</table>\n",
       "</div>"
      ],
      "text/plain": [
       "                           model_name  score_mean  score_std\n",
       "8                  XGBoost Regression    0.860001   0.044084\n",
       "7                   GBoost Regression    0.856153   0.045455\n",
       "6                 Adaboost Regression    0.849305   0.048613\n",
       "5            Random forest Regression    0.832789   0.046191\n",
       "1                    Lasso Regression    0.745119   0.040579\n",
       "2                    Ridge Regression    0.744818   0.041491\n",
       "0                   Linear Regression    0.744805   0.041861\n",
       "3            Decision Tree Regression    0.700240   0.048611\n",
       "4                      KNN Regression    0.160897   0.068411\n",
       "9  Support vector machines Regression   -0.104918   0.030712"
      ]
     },
     "execution_count": 41,
     "metadata": {},
     "output_type": "execute_result"
    }
   ],
   "source": [
    "k_fold_cv_tunned(X,y,fold=10)"
   ]
  },
  {
   "cell_type": "markdown",
   "id": "298449ce",
   "metadata": {},
   "source": [
    "## clustering "
   ]
  },
  {
   "cell_type": "code",
   "execution_count": 78,
   "id": "8c53f770",
   "metadata": {
    "ExecuteTime": {
     "end_time": "2022-05-20T11:44:57.642461Z",
     "start_time": "2022-05-20T11:44:57.405194Z"
    }
   },
   "outputs": [
    {
     "data": {
      "text/plain": [
       "<AxesSubplot:xlabel='age', ylabel='charges'>"
      ]
     },
     "execution_count": 78,
     "metadata": {},
     "output_type": "execute_result"
    },
    {
     "data": {
      "image/png": "[encoded data removed]",
      "text/plain": [
       "<Figure size 432x288 with 1 Axes>"
      ]
     },
     "metadata": {
      "needs_background": "light"
     },
     "output_type": "display_data"
    }
   ],
   "source": [
    "labels = KMeans(n_clusters=2,random_state=42).fit_predict(X) \n",
    "sns.scatterplot(x=X.age,y=y.charges,hue= labels)  "
   ]
  },
  {
   "cell_type": "markdown",
   "id": "57a1d533",
   "metadata": {},
   "source": [
    "## 7. Age and charges are 30% correlated with each other as well as there are different clusters of charges are getting formed for different age groups hence we would say that age is  also affecting insurance claimed."
   ]
  },
  {
   "cell_type": "code",
   "execution_count": 43,
   "id": "c3987d04",
   "metadata": {
    "ExecuteTime": {
     "end_time": "2022-05-20T11:29:54.187862Z",
     "start_time": "2022-05-20T11:29:53.660292Z"
    }
   },
   "outputs": [
    {
     "data": {
      "text/plain": [
       "<AxesSubplot:xlabel='bmi', ylabel='charges'>"
      ]
     },
     "execution_count": 43,
     "metadata": {},
     "output_type": "execute_result"
    },
    {
     "data": {
      "image/png": "[encoded data removed]",
      "text/plain": [
       "<Figure size 432x288 with 1 Axes>"
      ]
     },
     "metadata": {
      "needs_background": "light"
     },
     "output_type": "display_data"
    }
   ],
   "source": [
    "labels = KMeans(n_clusters=4,random_state=42).fit_predict(X) \n",
    "sns.scatterplot(x=X.bmi,y=y.charges,hue= labels) "
   ]
  },
  {
   "cell_type": "code",
   "execution_count": 44,
   "id": "b9ee5f40",
   "metadata": {
    "ExecuteTime": {
     "end_time": "2022-05-20T11:29:54.421979Z",
     "start_time": "2022-05-20T11:29:54.188864Z"
    }
   },
   "outputs": [
    {
     "data": {
      "text/plain": [
       "<AxesSubplot:xlabel='children', ylabel='charges'>"
      ]
     },
     "execution_count": 44,
     "metadata": {},
     "output_type": "execute_result"
    },
    {
     "data": {
      "image/png": "[encoded data removed]",
      "text/plain": [
       "<Figure size 432x288 with 1 Axes>"
      ]
     },
     "metadata": {
      "needs_background": "light"
     },
     "output_type": "display_data"
    }
   ],
   "source": [
    "labels = KMeans(n_clusters=2,random_state=42).fit_predict(X) \n",
    "sns.scatterplot(x=X.children,y=y.charges,hue= labels) "
   ]
  },
  {
   "cell_type": "code",
   "execution_count": 45,
   "id": "21b47c75",
   "metadata": {
    "ExecuteTime": {
     "end_time": "2022-05-20T11:29:54.687267Z",
     "start_time": "2022-05-20T11:29:54.422982Z"
    }
   },
   "outputs": [
    {
     "data": {
      "text/plain": [
       "<AxesSubplot:xlabel='sex', ylabel='charges'>"
      ]
     },
     "execution_count": 45,
     "metadata": {},
     "output_type": "execute_result"
    },
    {
     "data": {
      "image/png": "[encoded data removed]",
      "text/plain": [
       "<Figure size 432x288 with 1 Axes>"
      ]
     },
     "metadata": {
      "needs_background": "light"
     },
     "output_type": "display_data"
    }
   ],
   "source": [
    "labels = KMeans(n_clusters=2,random_state=42).fit_predict(X) \n",
    "sns.scatterplot(x=X.sex,y=y.charges,hue= labels) "
   ]
  },
  {
   "cell_type": "code",
   "execution_count": 46,
   "id": "be21724a",
   "metadata": {
    "ExecuteTime": {
     "end_time": "2022-05-20T11:29:54.940073Z",
     "start_time": "2022-05-20T11:29:54.688241Z"
    }
   },
   "outputs": [
    {
     "data": {
      "text/plain": [
       "<AxesSubplot:xlabel='smoker', ylabel='charges'>"
      ]
     },
     "execution_count": 46,
     "metadata": {},
     "output_type": "execute_result"
    },
    {
     "data": {
      "image/png": "[encoded data removed]",
      "text/plain": [
       "<Figure size 432x288 with 1 Axes>"
      ]
     },
     "metadata": {
      "needs_background": "light"
     },
     "output_type": "display_data"
    }
   ],
   "source": [
    "labels = KMeans(n_clusters=2,random_state=42).fit_predict(X) \n",
    "sns.scatterplot(x=X.smoker,y=y.charges,hue= labels) "
   ]
  },
  {
   "cell_type": "code",
   "execution_count": 47,
   "id": "d7e7cb7d",
   "metadata": {
    "ExecuteTime": {
     "end_time": "2022-05-20T11:29:55.187932Z",
     "start_time": "2022-05-20T11:29:54.941076Z"
    }
   },
   "outputs": [
    {
     "data": {
      "text/plain": [
       "<AxesSubplot:xlabel='region', ylabel='charges'>"
      ]
     },
     "execution_count": 47,
     "metadata": {},
     "output_type": "execute_result"
    },
    {
     "data": {
      "image/png": "[encoded data removed]",
      "text/plain": [
       "<Figure size 432x288 with 1 Axes>"
      ]
     },
     "metadata": {
      "needs_background": "light"
     },
     "output_type": "display_data"
    }
   ],
   "source": [
    "labels = KMeans(n_clusters=2,random_state=42).fit_predict(X) \n",
    "sns.scatterplot(x=X.region,y=y.charges,hue= labels) "
   ]
  },
  {
   "cell_type": "markdown",
   "id": "4874b17b",
   "metadata": {},
   "source": [
    "## 3. From clustering plot of region and charges of the data we can say that region is not affecting charges at all as there is no any relation between charges and region as well as other independant variables and it is not forming any clusters with charges,hence we would specifically not suggest to offer different policies based upon geographic location."
   ]
  },
  {
   "cell_type": "markdown",
   "id": "76104bb9",
   "metadata": {
    "ExecuteTime": {
     "end_time": "2022-05-18T10:39:41.335416Z",
     "start_time": "2022-05-18T10:39:41.319757Z"
    }
   },
   "source": [
    "### only age is forming three different clusters with charges so lets make new datafrme of independant variables which will consist clusters of age "
   ]
  },
  {
   "cell_type": "code",
   "execution_count": 79,
   "id": "f2aebeb7",
   "metadata": {
    "ExecuteTime": {
     "end_time": "2022-05-20T11:45:09.465795Z",
     "start_time": "2022-05-20T11:45:09.454768Z"
    }
   },
   "outputs": [
    {
     "data": {
      "text/html": [
       "<div>\n",
       "<style scoped>\n",
       "    .dataframe tbody tr th:only-of-type {\n",
       "        vertical-align: middle;\n",
       "    }\n",
       "\n",
       "    .dataframe tbody tr th {\n",
       "        vertical-align: top;\n",
       "    }\n",
       "\n",
       "    .dataframe thead th {\n",
       "        text-align: right;\n",
       "    }\n",
       "</style>\n",
       "<table border=\"1\" class=\"dataframe\">\n",
       "  <thead>\n",
       "    <tr style=\"text-align: right;\">\n",
       "      <th></th>\n",
       "      <th>labels</th>\n",
       "    </tr>\n",
       "  </thead>\n",
       "  <tbody>\n",
       "    <tr>\n",
       "      <th>0</th>\n",
       "      <td>1</td>\n",
       "    </tr>\n",
       "    <tr>\n",
       "      <th>1</th>\n",
       "      <td>1</td>\n",
       "    </tr>\n",
       "    <tr>\n",
       "      <th>2</th>\n",
       "      <td>1</td>\n",
       "    </tr>\n",
       "    <tr>\n",
       "      <th>3</th>\n",
       "      <td>1</td>\n",
       "    </tr>\n",
       "    <tr>\n",
       "      <th>4</th>\n",
       "      <td>1</td>\n",
       "    </tr>\n",
       "  </tbody>\n",
       "</table>\n",
       "</div>"
      ],
      "text/plain": [
       "   labels\n",
       "0       1\n",
       "1       1\n",
       "2       1\n",
       "3       1\n",
       "4       1"
      ]
     },
     "execution_count": 79,
     "metadata": {},
     "output_type": "execute_result"
    }
   ],
   "source": [
    "df_labels = pd.DataFrame(labels,columns=[\"labels\"]) \n",
    "df_labels.head()"
   ]
  },
  {
   "cell_type": "code",
   "execution_count": 80,
   "id": "7ede93d5",
   "metadata": {
    "ExecuteTime": {
     "end_time": "2022-05-20T11:45:19.950201Z",
     "start_time": "2022-05-20T11:45:19.945153Z"
    }
   },
   "outputs": [],
   "source": [
    "X_new = X.join(df_labels,how=\"inner\") "
   ]
  },
  {
   "cell_type": "code",
   "execution_count": 81,
   "id": "a12ffd5f",
   "metadata": {
    "ExecuteTime": {
     "end_time": "2022-05-20T11:45:36.724912Z",
     "start_time": "2022-05-20T11:45:36.711875Z"
    }
   },
   "outputs": [
    {
     "data": {
      "text/html": [
       "<div>\n",
       "<style scoped>\n",
       "    .dataframe tbody tr th:only-of-type {\n",
       "        vertical-align: middle;\n",
       "    }\n",
       "\n",
       "    .dataframe tbody tr th {\n",
       "        vertical-align: top;\n",
       "    }\n",
       "\n",
       "    .dataframe thead th {\n",
       "        text-align: right;\n",
       "    }\n",
       "</style>\n",
       "<table border=\"1\" class=\"dataframe\">\n",
       "  <thead>\n",
       "    <tr style=\"text-align: right;\">\n",
       "      <th></th>\n",
       "      <th>age</th>\n",
       "      <th>sex</th>\n",
       "      <th>bmi</th>\n",
       "      <th>children</th>\n",
       "      <th>smoker</th>\n",
       "      <th>region</th>\n",
       "      <th>labels</th>\n",
       "    </tr>\n",
       "  </thead>\n",
       "  <tbody>\n",
       "    <tr>\n",
       "      <th>0</th>\n",
       "      <td>19.0</td>\n",
       "      <td>0</td>\n",
       "      <td>27.900</td>\n",
       "      <td>0.0</td>\n",
       "      <td>1</td>\n",
       "      <td>3</td>\n",
       "      <td>1</td>\n",
       "    </tr>\n",
       "    <tr>\n",
       "      <th>1</th>\n",
       "      <td>18.0</td>\n",
       "      <td>1</td>\n",
       "      <td>33.770</td>\n",
       "      <td>1.0</td>\n",
       "      <td>0</td>\n",
       "      <td>2</td>\n",
       "      <td>1</td>\n",
       "    </tr>\n",
       "    <tr>\n",
       "      <th>2</th>\n",
       "      <td>28.0</td>\n",
       "      <td>1</td>\n",
       "      <td>33.000</td>\n",
       "      <td>3.0</td>\n",
       "      <td>0</td>\n",
       "      <td>2</td>\n",
       "      <td>1</td>\n",
       "    </tr>\n",
       "    <tr>\n",
       "      <th>3</th>\n",
       "      <td>33.0</td>\n",
       "      <td>1</td>\n",
       "      <td>22.705</td>\n",
       "      <td>0.0</td>\n",
       "      <td>0</td>\n",
       "      <td>1</td>\n",
       "      <td>1</td>\n",
       "    </tr>\n",
       "    <tr>\n",
       "      <th>4</th>\n",
       "      <td>32.0</td>\n",
       "      <td>1</td>\n",
       "      <td>28.880</td>\n",
       "      <td>0.0</td>\n",
       "      <td>0</td>\n",
       "      <td>1</td>\n",
       "      <td>1</td>\n",
       "    </tr>\n",
       "    <tr>\n",
       "      <th>...</th>\n",
       "      <td>...</td>\n",
       "      <td>...</td>\n",
       "      <td>...</td>\n",
       "      <td>...</td>\n",
       "      <td>...</td>\n",
       "      <td>...</td>\n",
       "      <td>...</td>\n",
       "    </tr>\n",
       "    <tr>\n",
       "      <th>1333</th>\n",
       "      <td>50.0</td>\n",
       "      <td>1</td>\n",
       "      <td>30.970</td>\n",
       "      <td>3.0</td>\n",
       "      <td>0</td>\n",
       "      <td>1</td>\n",
       "      <td>0</td>\n",
       "    </tr>\n",
       "    <tr>\n",
       "      <th>1334</th>\n",
       "      <td>18.0</td>\n",
       "      <td>0</td>\n",
       "      <td>31.920</td>\n",
       "      <td>0.0</td>\n",
       "      <td>0</td>\n",
       "      <td>0</td>\n",
       "      <td>1</td>\n",
       "    </tr>\n",
       "    <tr>\n",
       "      <th>1335</th>\n",
       "      <td>18.0</td>\n",
       "      <td>0</td>\n",
       "      <td>36.850</td>\n",
       "      <td>0.0</td>\n",
       "      <td>0</td>\n",
       "      <td>2</td>\n",
       "      <td>1</td>\n",
       "    </tr>\n",
       "    <tr>\n",
       "      <th>1336</th>\n",
       "      <td>21.0</td>\n",
       "      <td>0</td>\n",
       "      <td>25.800</td>\n",
       "      <td>0.0</td>\n",
       "      <td>0</td>\n",
       "      <td>3</td>\n",
       "      <td>1</td>\n",
       "    </tr>\n",
       "    <tr>\n",
       "      <th>1337</th>\n",
       "      <td>61.0</td>\n",
       "      <td>0</td>\n",
       "      <td>29.070</td>\n",
       "      <td>0.0</td>\n",
       "      <td>1</td>\n",
       "      <td>1</td>\n",
       "      <td>0</td>\n",
       "    </tr>\n",
       "  </tbody>\n",
       "</table>\n",
       "<p>1338 rows × 7 columns</p>\n",
       "</div>"
      ],
      "text/plain": [
       "       age  sex     bmi  children  smoker  region  labels\n",
       "0     19.0    0  27.900       0.0       1       3       1\n",
       "1     18.0    1  33.770       1.0       0       2       1\n",
       "2     28.0    1  33.000       3.0       0       2       1\n",
       "3     33.0    1  22.705       0.0       0       1       1\n",
       "4     32.0    1  28.880       0.0       0       1       1\n",
       "...    ...  ...     ...       ...     ...     ...     ...\n",
       "1333  50.0    1  30.970       3.0       0       1       0\n",
       "1334  18.0    0  31.920       0.0       0       0       1\n",
       "1335  18.0    0  36.850       0.0       0       2       1\n",
       "1336  21.0    0  25.800       0.0       0       3       1\n",
       "1337  61.0    0  29.070       0.0       1       1       0\n",
       "\n",
       "[1338 rows x 7 columns]"
      ]
     },
     "execution_count": 81,
     "metadata": {},
     "output_type": "execute_result"
    }
   ],
   "source": [
    "X_new"
   ]
  },
  {
   "cell_type": "markdown",
   "id": "0ca24323",
   "metadata": {},
   "source": [
    "## now lets fit model on clustered data "
   ]
  },
  {
   "cell_type": "code",
   "execution_count": 50,
   "id": "1520aa83",
   "metadata": {
    "ExecuteTime": {
     "end_time": "2022-05-20T11:29:56.139756Z",
     "start_time": "2022-05-20T11:29:55.306232Z"
    }
   },
   "outputs": [
    {
     "data": {
      "text/html": [
       "<div>\n",
       "<style scoped>\n",
       "    .dataframe tbody tr th:only-of-type {\n",
       "        vertical-align: middle;\n",
       "    }\n",
       "\n",
       "    .dataframe tbody tr th {\n",
       "        vertical-align: top;\n",
       "    }\n",
       "\n",
       "    .dataframe thead th {\n",
       "        text-align: right;\n",
       "    }\n",
       "</style>\n",
       "<table border=\"1\" class=\"dataframe\">\n",
       "  <thead>\n",
       "    <tr style=\"text-align: right;\">\n",
       "      <th></th>\n",
       "      <th>Model_Name</th>\n",
       "      <th>R2_Score</th>\n",
       "      <th>RMSE</th>\n",
       "    </tr>\n",
       "  </thead>\n",
       "  <tbody>\n",
       "    <tr>\n",
       "      <th>7</th>\n",
       "      <td>GBoost_Regression</td>\n",
       "      <td>0.854238</td>\n",
       "      <td>4668.048445</td>\n",
       "    </tr>\n",
       "    <tr>\n",
       "      <th>5</th>\n",
       "      <td>Random_Forest_Regression</td>\n",
       "      <td>0.846612</td>\n",
       "      <td>4788.602960</td>\n",
       "    </tr>\n",
       "    <tr>\n",
       "      <th>6</th>\n",
       "      <td>Adaboost_Regression</td>\n",
       "      <td>0.828094</td>\n",
       "      <td>5069.423949</td>\n",
       "    </tr>\n",
       "    <tr>\n",
       "      <th>8</th>\n",
       "      <td>XGB_Regression</td>\n",
       "      <td>0.814731</td>\n",
       "      <td>5262.768002</td>\n",
       "    </tr>\n",
       "    <tr>\n",
       "      <th>4</th>\n",
       "      <td>Decision_Tree_Regression</td>\n",
       "      <td>0.767719</td>\n",
       "      <td>5892.768250</td>\n",
       "    </tr>\n",
       "    <tr>\n",
       "      <th>0</th>\n",
       "      <td>Linear_Regression</td>\n",
       "      <td>0.734035</td>\n",
       "      <td>6305.577832</td>\n",
       "    </tr>\n",
       "    <tr>\n",
       "      <th>1</th>\n",
       "      <td>Lasso_Reression</td>\n",
       "      <td>0.734033</td>\n",
       "      <td>6305.605239</td>\n",
       "    </tr>\n",
       "    <tr>\n",
       "      <th>2</th>\n",
       "      <td>Ridge_Regression</td>\n",
       "      <td>0.733920</td>\n",
       "      <td>6306.946358</td>\n",
       "    </tr>\n",
       "    <tr>\n",
       "      <th>3</th>\n",
       "      <td>KNN_Regression</td>\n",
       "      <td>0.098960</td>\n",
       "      <td>11606.061594</td>\n",
       "    </tr>\n",
       "    <tr>\n",
       "      <th>9</th>\n",
       "      <td>Support_Vector_Regression</td>\n",
       "      <td>-0.089639</td>\n",
       "      <td>12763.036585</td>\n",
       "    </tr>\n",
       "  </tbody>\n",
       "</table>\n",
       "</div>"
      ],
      "text/plain": [
       "                  Model_Name  R2_Score          RMSE\n",
       "7          GBoost_Regression  0.854238   4668.048445\n",
       "5   Random_Forest_Regression  0.846612   4788.602960\n",
       "6        Adaboost_Regression  0.828094   5069.423949\n",
       "8             XGB_Regression  0.814731   5262.768002\n",
       "4   Decision_Tree_Regression  0.767719   5892.768250\n",
       "0          Linear_Regression  0.734035   6305.577832\n",
       "1            Lasso_Reression  0.734033   6305.605239\n",
       "2           Ridge_Regression  0.733920   6306.946358\n",
       "3             KNN_Regression  0.098960  11606.061594\n",
       "9  Support_Vector_Regression -0.089639  12763.036585"
      ]
     },
     "execution_count": 50,
     "metadata": {},
     "output_type": "execute_result"
    }
   ],
   "source": [
    "build_multiple_model(X_new,y) "
   ]
  },
  {
   "cell_type": "code",
   "execution_count": 51,
   "id": "c260a00e",
   "metadata": {
    "ExecuteTime": {
     "end_time": "2022-05-20T11:30:03.874460Z",
     "start_time": "2022-05-20T11:29:56.140765Z"
    }
   },
   "outputs": [
    {
     "data": {
      "text/html": [
       "<div>\n",
       "<style scoped>\n",
       "    .dataframe tbody tr th:only-of-type {\n",
       "        vertical-align: middle;\n",
       "    }\n",
       "\n",
       "    .dataframe tbody tr th {\n",
       "        vertical-align: top;\n",
       "    }\n",
       "\n",
       "    .dataframe thead th {\n",
       "        text-align: right;\n",
       "    }\n",
       "</style>\n",
       "<table border=\"1\" class=\"dataframe\">\n",
       "  <thead>\n",
       "    <tr style=\"text-align: right;\">\n",
       "      <th></th>\n",
       "      <th>model_name</th>\n",
       "      <th>score_mean</th>\n",
       "      <th>score_std</th>\n",
       "    </tr>\n",
       "  </thead>\n",
       "  <tbody>\n",
       "    <tr>\n",
       "      <th>8</th>\n",
       "      <td>XGBoost Regression</td>\n",
       "      <td>0.859931</td>\n",
       "      <td>0.044074</td>\n",
       "    </tr>\n",
       "    <tr>\n",
       "      <th>7</th>\n",
       "      <td>GBoost Regression</td>\n",
       "      <td>0.856406</td>\n",
       "      <td>0.044615</td>\n",
       "    </tr>\n",
       "    <tr>\n",
       "      <th>6</th>\n",
       "      <td>Adaboost Regression</td>\n",
       "      <td>0.847189</td>\n",
       "      <td>0.045859</td>\n",
       "    </tr>\n",
       "    <tr>\n",
       "      <th>5</th>\n",
       "      <td>Random forest Regression</td>\n",
       "      <td>0.833338</td>\n",
       "      <td>0.045903</td>\n",
       "    </tr>\n",
       "    <tr>\n",
       "      <th>1</th>\n",
       "      <td>Lasso Regression</td>\n",
       "      <td>0.745119</td>\n",
       "      <td>0.040579</td>\n",
       "    </tr>\n",
       "    <tr>\n",
       "      <th>2</th>\n",
       "      <td>Ridge Regression</td>\n",
       "      <td>0.744311</td>\n",
       "      <td>0.041580</td>\n",
       "    </tr>\n",
       "    <tr>\n",
       "      <th>0</th>\n",
       "      <td>Linear Regression</td>\n",
       "      <td>0.744290</td>\n",
       "      <td>0.041952</td>\n",
       "    </tr>\n",
       "    <tr>\n",
       "      <th>3</th>\n",
       "      <td>Decision Tree Regression</td>\n",
       "      <td>0.698998</td>\n",
       "      <td>0.046547</td>\n",
       "    </tr>\n",
       "    <tr>\n",
       "      <th>4</th>\n",
       "      <td>KNN Regression</td>\n",
       "      <td>0.159479</td>\n",
       "      <td>0.067910</td>\n",
       "    </tr>\n",
       "    <tr>\n",
       "      <th>9</th>\n",
       "      <td>Support vector machines Regression</td>\n",
       "      <td>-0.104959</td>\n",
       "      <td>0.030698</td>\n",
       "    </tr>\n",
       "  </tbody>\n",
       "</table>\n",
       "</div>"
      ],
      "text/plain": [
       "                           model_name  score_mean  score_std\n",
       "8                  XGBoost Regression    0.859931   0.044074\n",
       "7                   GBoost Regression    0.856406   0.044615\n",
       "6                 Adaboost Regression    0.847189   0.045859\n",
       "5            Random forest Regression    0.833338   0.045903\n",
       "1                    Lasso Regression    0.745119   0.040579\n",
       "2                    Ridge Regression    0.744311   0.041580\n",
       "0                   Linear Regression    0.744290   0.041952\n",
       "3            Decision Tree Regression    0.698998   0.046547\n",
       "4                      KNN Regression    0.159479   0.067910\n",
       "9  Support vector machines Regression   -0.104959   0.030698"
      ]
     },
     "execution_count": 51,
     "metadata": {},
     "output_type": "execute_result"
    }
   ],
   "source": [
    "k_fold_cv_tunned(X_new,y,fold=10)"
   ]
  },
  {
   "cell_type": "markdown",
   "id": "7b7f884b",
   "metadata": {
    "ExecuteTime": {
     "end_time": "2022-05-18T10:48:34.752218Z",
     "start_time": "2022-05-18T10:48:34.746171Z"
    }
   },
   "source": [
    "## learning curve "
   ]
  },
  {
   "cell_type": "code",
   "execution_count": 52,
   "id": "e1d75aff",
   "metadata": {
    "ExecuteTime": {
     "end_time": "2022-05-20T11:30:03.880484Z",
     "start_time": "2022-05-20T11:30:03.875460Z"
    }
   },
   "outputs": [],
   "source": [
    "def genrate_learning_curve(model_name,estimator,x,Y,fold=10):\n",
    "    train_size,train_score,test_score = learning_curve(estimator=estimator,X=x,y=Y,cv=fold) \n",
    "    train_score_mean = np.mean(train_score,axis=1)\n",
    "    test_score_mean = np.mean(test_score,axis=1) \n",
    "    plt.plot(train_size,train_score_mean,color=\"blue\")\n",
    "    plt.plot(train_size,test_score_mean,color=\"orange\")\n",
    "    \n",
    "    plt.xlabel(\"Samples\")\n",
    "    plt.ylabel(\"Accuracy\")\n",
    "    plt.title(\"Learning Curve\" + model_name)\n",
    "    plt.legend(\"Training accurcy\",\"Testing accurcy\") "
   ]
  },
  {
   "cell_type": "code",
   "execution_count": 53,
   "id": "46e6991e",
   "metadata": {
    "ExecuteTime": {
     "end_time": "2022-05-20T11:30:09.180002Z",
     "start_time": "2022-05-20T11:30:03.882480Z"
    }
   },
   "outputs": [
    {
     "data": {
      "image/png": "[encoded data removed]",
      "text/plain": [
       "<Figure size 432x288 with 1 Axes>"
      ]
     },
     "metadata": {
      "needs_background": "light"
     },
     "output_type": "display_data"
    }
   ],
   "source": [
    "genrate_learning_curve(\"XGB\",XGBRegressor(),X_new,y,fold=10) "
   ]
  },
  {
   "cell_type": "code",
   "execution_count": 54,
   "id": "44441ec2",
   "metadata": {
    "ExecuteTime": {
     "end_time": "2022-05-20T11:30:19.994965Z",
     "start_time": "2022-05-20T11:30:09.181004Z"
    }
   },
   "outputs": [
    {
     "data": {
      "image/png": "[encoded data removed]",
      "text/plain": [
       "<Figure size 432x288 with 1 Axes>"
      ]
     },
     "metadata": {
      "needs_background": "light"
     },
     "output_type": "display_data"
    }
   ],
   "source": [
    "genrate_learning_curve(\"Random Forest\",RandomForestRegressor(),X_new,y,fold=10) "
   ]
  },
  {
   "cell_type": "markdown",
   "id": "05aa2858",
   "metadata": {},
   "source": [
    "## Feature Importance by using XGBoost Package "
   ]
  },
  {
   "cell_type": "code",
   "execution_count": 55,
   "id": "c558950a",
   "metadata": {
    "ExecuteTime": {
     "end_time": "2022-05-20T11:30:20.106079Z",
     "start_time": "2022-05-20T11:30:19.995968Z"
    }
   },
   "outputs": [
    {
     "data": {
      "text/plain": [
       "XGBRegressor(base_score=0.5, booster='gbtree', callbacks=None,\n",
       "             colsample_bylevel=1, colsample_bynode=1, colsample_bytree=1,\n",
       "             early_stopping_rounds=None, enable_categorical=False,\n",
       "             eval_metric=None, gamma=0, gpu_id=-1, grow_policy='depthwise',\n",
       "             importance_type=None, interaction_constraints='',\n",
       "             learning_rate=0.300000012, max_bin=256, max_cat_to_onehot=4,\n",
       "             max_delta_step=0, max_depth=6, max_leaves=0, min_child_weight=1,\n",
       "             missing=nan, monotone_constraints='()', n_estimators=100, n_jobs=0,\n",
       "             num_parallel_tree=1, predictor='auto', random_state=0, reg_alpha=0,\n",
       "             reg_lambda=1, ...)"
      ]
     },
     "execution_count": 55,
     "metadata": {},
     "output_type": "execute_result"
    }
   ],
   "source": [
    "x_train,x_test,y_train,y_test = train_test_split(X_new,y,test_size=0.2,random_state=42) \n",
    "\n",
    "xgb = XGBRegressor() \n",
    "xgb.fit(x_train,y_train) "
   ]
  },
  {
   "cell_type": "code",
   "execution_count": 56,
   "id": "cc355dc1",
   "metadata": {
    "ExecuteTime": {
     "end_time": "2022-05-20T11:30:21.853356Z",
     "start_time": "2022-05-20T11:30:20.107082Z"
    }
   },
   "outputs": [
    {
     "data": {
      "text/plain": [
       "<AxesSubplot:title={'center':'Feature importance'}, xlabel='F score', ylabel='Features'>"
      ]
     },
     "execution_count": 56,
     "metadata": {},
     "output_type": "execute_result"
    },
    {
     "data": {
      "image/png": "[encoded data removed]",
      "text/plain": [
       "<Figure size 432x288 with 1 Axes>"
      ]
     },
     "metadata": {
      "needs_background": "light"
     },
     "output_type": "display_data"
    }
   ],
   "source": [
    "xgboost.plot_importance(xgb) "
   ]
  },
  {
   "cell_type": "markdown",
   "id": "6700a7c4",
   "metadata": {},
   "source": [
    "## 5. from feature importance we would say that study of persons BMI gives the company an idea for the insurance claim as it is affecting charges the most and there is 20% correlation between bmi and charges also so study of bmi will play a crucial role in predicting claim of insurance \n",
    "## 8. As well as company should extend certain discounts after checking BMI of a person."
   ]
  },
  {
   "cell_type": "markdown",
   "id": "f025a295",
   "metadata": {},
   "source": [
    "# Model Building "
   ]
  },
  {
   "cell_type": "code",
   "execution_count": 57,
   "id": "568e4c10",
   "metadata": {
    "ExecuteTime": {
     "end_time": "2022-05-20T11:30:21.898848Z",
     "start_time": "2022-05-20T11:30:21.854390Z"
    }
   },
   "outputs": [
    {
     "data": {
      "text/html": [
       "<div>\n",
       "<style scoped>\n",
       "    .dataframe tbody tr th:only-of-type {\n",
       "        vertical-align: middle;\n",
       "    }\n",
       "\n",
       "    .dataframe tbody tr th {\n",
       "        vertical-align: top;\n",
       "    }\n",
       "\n",
       "    .dataframe thead th {\n",
       "        text-align: right;\n",
       "    }\n",
       "</style>\n",
       "<table border=\"1\" class=\"dataframe\">\n",
       "  <thead>\n",
       "    <tr style=\"text-align: right;\">\n",
       "      <th></th>\n",
       "      <th>bmi</th>\n",
       "      <th>age</th>\n",
       "      <th>children</th>\n",
       "      <th>region</th>\n",
       "      <th>sex</th>\n",
       "      <th>smoker</th>\n",
       "    </tr>\n",
       "  </thead>\n",
       "  <tbody>\n",
       "    <tr>\n",
       "      <th>0</th>\n",
       "      <td>27.900</td>\n",
       "      <td>19.0</td>\n",
       "      <td>0.0</td>\n",
       "      <td>3</td>\n",
       "      <td>0</td>\n",
       "      <td>1</td>\n",
       "    </tr>\n",
       "    <tr>\n",
       "      <th>1</th>\n",
       "      <td>33.770</td>\n",
       "      <td>18.0</td>\n",
       "      <td>1.0</td>\n",
       "      <td>2</td>\n",
       "      <td>1</td>\n",
       "      <td>0</td>\n",
       "    </tr>\n",
       "    <tr>\n",
       "      <th>2</th>\n",
       "      <td>33.000</td>\n",
       "      <td>28.0</td>\n",
       "      <td>3.0</td>\n",
       "      <td>2</td>\n",
       "      <td>1</td>\n",
       "      <td>0</td>\n",
       "    </tr>\n",
       "    <tr>\n",
       "      <th>3</th>\n",
       "      <td>22.705</td>\n",
       "      <td>33.0</td>\n",
       "      <td>0.0</td>\n",
       "      <td>1</td>\n",
       "      <td>1</td>\n",
       "      <td>0</td>\n",
       "    </tr>\n",
       "    <tr>\n",
       "      <th>4</th>\n",
       "      <td>28.880</td>\n",
       "      <td>32.0</td>\n",
       "      <td>0.0</td>\n",
       "      <td>1</td>\n",
       "      <td>1</td>\n",
       "      <td>0</td>\n",
       "    </tr>\n",
       "    <tr>\n",
       "      <th>...</th>\n",
       "      <td>...</td>\n",
       "      <td>...</td>\n",
       "      <td>...</td>\n",
       "      <td>...</td>\n",
       "      <td>...</td>\n",
       "      <td>...</td>\n",
       "    </tr>\n",
       "    <tr>\n",
       "      <th>1333</th>\n",
       "      <td>30.970</td>\n",
       "      <td>50.0</td>\n",
       "      <td>3.0</td>\n",
       "      <td>1</td>\n",
       "      <td>1</td>\n",
       "      <td>0</td>\n",
       "    </tr>\n",
       "    <tr>\n",
       "      <th>1334</th>\n",
       "      <td>31.920</td>\n",
       "      <td>18.0</td>\n",
       "      <td>0.0</td>\n",
       "      <td>0</td>\n",
       "      <td>0</td>\n",
       "      <td>0</td>\n",
       "    </tr>\n",
       "    <tr>\n",
       "      <th>1335</th>\n",
       "      <td>36.850</td>\n",
       "      <td>18.0</td>\n",
       "      <td>0.0</td>\n",
       "      <td>2</td>\n",
       "      <td>0</td>\n",
       "      <td>0</td>\n",
       "    </tr>\n",
       "    <tr>\n",
       "      <th>1336</th>\n",
       "      <td>25.800</td>\n",
       "      <td>21.0</td>\n",
       "      <td>0.0</td>\n",
       "      <td>3</td>\n",
       "      <td>0</td>\n",
       "      <td>0</td>\n",
       "    </tr>\n",
       "    <tr>\n",
       "      <th>1337</th>\n",
       "      <td>29.070</td>\n",
       "      <td>61.0</td>\n",
       "      <td>0.0</td>\n",
       "      <td>1</td>\n",
       "      <td>0</td>\n",
       "      <td>1</td>\n",
       "    </tr>\n",
       "  </tbody>\n",
       "</table>\n",
       "<p>1338 rows × 6 columns</p>\n",
       "</div>"
      ],
      "text/plain": [
       "         bmi   age  children  region  sex  smoker\n",
       "0     27.900  19.0       0.0       3    0       1\n",
       "1     33.770  18.0       1.0       2    1       0\n",
       "2     33.000  28.0       3.0       2    1       0\n",
       "3     22.705  33.0       0.0       1    1       0\n",
       "4     28.880  32.0       0.0       1    1       0\n",
       "...      ...   ...       ...     ...  ...     ...\n",
       "1333  30.970  50.0       3.0       1    1       0\n",
       "1334  31.920  18.0       0.0       0    0       0\n",
       "1335  36.850  18.0       0.0       2    0       0\n",
       "1336  25.800  21.0       0.0       3    0       0\n",
       "1337  29.070  61.0       0.0       1    0       1\n",
       "\n",
       "[1338 rows x 6 columns]"
      ]
     },
     "execution_count": 57,
     "metadata": {},
     "output_type": "execute_result"
    }
   ],
   "source": [
    "X_neww = X_new[[\"bmi\",\"age\",\"children\",\"region\",\"sex\",\"smoker\"]] \n",
    "X_neww"
   ]
  },
  {
   "cell_type": "code",
   "execution_count": 58,
   "id": "c6779b05",
   "metadata": {
    "ExecuteTime": {
     "end_time": "2022-05-20T11:30:22.764314Z",
     "start_time": "2022-05-20T11:30:21.899851Z"
    }
   },
   "outputs": [
    {
     "data": {
      "text/html": [
       "<div>\n",
       "<style scoped>\n",
       "    .dataframe tbody tr th:only-of-type {\n",
       "        vertical-align: middle;\n",
       "    }\n",
       "\n",
       "    .dataframe tbody tr th {\n",
       "        vertical-align: top;\n",
       "    }\n",
       "\n",
       "    .dataframe thead th {\n",
       "        text-align: right;\n",
       "    }\n",
       "</style>\n",
       "<table border=\"1\" class=\"dataframe\">\n",
       "  <thead>\n",
       "    <tr style=\"text-align: right;\">\n",
       "      <th></th>\n",
       "      <th>Model_Name</th>\n",
       "      <th>R2_Score</th>\n",
       "      <th>RMSE</th>\n",
       "    </tr>\n",
       "  </thead>\n",
       "  <tbody>\n",
       "    <tr>\n",
       "      <th>7</th>\n",
       "      <td>GBoost_Regression</td>\n",
       "      <td>0.854289</td>\n",
       "      <td>4667.225579</td>\n",
       "    </tr>\n",
       "    <tr>\n",
       "      <th>5</th>\n",
       "      <td>Random_Forest_Regression</td>\n",
       "      <td>0.847301</td>\n",
       "      <td>4777.826262</td>\n",
       "    </tr>\n",
       "    <tr>\n",
       "      <th>6</th>\n",
       "      <td>Adaboost_Regression</td>\n",
       "      <td>0.820694</td>\n",
       "      <td>5177.383184</td>\n",
       "    </tr>\n",
       "    <tr>\n",
       "      <th>8</th>\n",
       "      <td>XGB_Regression</td>\n",
       "      <td>0.814140</td>\n",
       "      <td>5271.156763</td>\n",
       "    </tr>\n",
       "    <tr>\n",
       "      <th>4</th>\n",
       "      <td>Decision_Tree_Regression</td>\n",
       "      <td>0.783617</td>\n",
       "      <td>5687.531805</td>\n",
       "    </tr>\n",
       "    <tr>\n",
       "      <th>0</th>\n",
       "      <td>Linear_Regression</td>\n",
       "      <td>0.734046</td>\n",
       "      <td>6305.444029</td>\n",
       "    </tr>\n",
       "    <tr>\n",
       "      <th>1</th>\n",
       "      <td>Lasso_Reression</td>\n",
       "      <td>0.734042</td>\n",
       "      <td>6305.501856</td>\n",
       "    </tr>\n",
       "    <tr>\n",
       "      <th>2</th>\n",
       "      <td>Ridge_Regression</td>\n",
       "      <td>0.733933</td>\n",
       "      <td>6306.789227</td>\n",
       "    </tr>\n",
       "    <tr>\n",
       "      <th>3</th>\n",
       "      <td>KNN_Regression</td>\n",
       "      <td>0.099165</td>\n",
       "      <td>11604.739127</td>\n",
       "    </tr>\n",
       "    <tr>\n",
       "      <th>9</th>\n",
       "      <td>Support_Vector_Regression</td>\n",
       "      <td>-0.089624</td>\n",
       "      <td>12762.947813</td>\n",
       "    </tr>\n",
       "  </tbody>\n",
       "</table>\n",
       "</div>"
      ],
      "text/plain": [
       "                  Model_Name  R2_Score          RMSE\n",
       "7          GBoost_Regression  0.854289   4667.225579\n",
       "5   Random_Forest_Regression  0.847301   4777.826262\n",
       "6        Adaboost_Regression  0.820694   5177.383184\n",
       "8             XGB_Regression  0.814140   5271.156763\n",
       "4   Decision_Tree_Regression  0.783617   5687.531805\n",
       "0          Linear_Regression  0.734046   6305.444029\n",
       "1            Lasso_Reression  0.734042   6305.501856\n",
       "2           Ridge_Regression  0.733933   6306.789227\n",
       "3             KNN_Regression  0.099165  11604.739127\n",
       "9  Support_Vector_Regression -0.089624  12762.947813"
      ]
     },
     "execution_count": 58,
     "metadata": {},
     "output_type": "execute_result"
    }
   ],
   "source": [
    "build_multiple_model(X_neww,y) "
   ]
  },
  {
   "cell_type": "code",
   "execution_count": 59,
   "id": "dfac272d",
   "metadata": {
    "ExecuteTime": {
     "end_time": "2022-05-20T11:30:30.128788Z",
     "start_time": "2022-05-20T11:30:22.766322Z"
    }
   },
   "outputs": [
    {
     "data": {
      "text/html": [
       "<div>\n",
       "<style scoped>\n",
       "    .dataframe tbody tr th:only-of-type {\n",
       "        vertical-align: middle;\n",
       "    }\n",
       "\n",
       "    .dataframe tbody tr th {\n",
       "        vertical-align: top;\n",
       "    }\n",
       "\n",
       "    .dataframe thead th {\n",
       "        text-align: right;\n",
       "    }\n",
       "</style>\n",
       "<table border=\"1\" class=\"dataframe\">\n",
       "  <thead>\n",
       "    <tr style=\"text-align: right;\">\n",
       "      <th></th>\n",
       "      <th>model_name</th>\n",
       "      <th>score_mean</th>\n",
       "      <th>score_std</th>\n",
       "    </tr>\n",
       "  </thead>\n",
       "  <tbody>\n",
       "    <tr>\n",
       "      <th>8</th>\n",
       "      <td>XGBoost Regression</td>\n",
       "      <td>0.860001</td>\n",
       "      <td>0.044084</td>\n",
       "    </tr>\n",
       "    <tr>\n",
       "      <th>7</th>\n",
       "      <td>GBoost Regression</td>\n",
       "      <td>0.856219</td>\n",
       "      <td>0.045083</td>\n",
       "    </tr>\n",
       "    <tr>\n",
       "      <th>6</th>\n",
       "      <td>Adaboost Regression</td>\n",
       "      <td>0.846230</td>\n",
       "      <td>0.049587</td>\n",
       "    </tr>\n",
       "    <tr>\n",
       "      <th>5</th>\n",
       "      <td>Random forest Regression</td>\n",
       "      <td>0.834579</td>\n",
       "      <td>0.045280</td>\n",
       "    </tr>\n",
       "    <tr>\n",
       "      <th>1</th>\n",
       "      <td>Lasso Regression</td>\n",
       "      <td>0.745119</td>\n",
       "      <td>0.040579</td>\n",
       "    </tr>\n",
       "    <tr>\n",
       "      <th>2</th>\n",
       "      <td>Ridge Regression</td>\n",
       "      <td>0.744818</td>\n",
       "      <td>0.041491</td>\n",
       "    </tr>\n",
       "    <tr>\n",
       "      <th>0</th>\n",
       "      <td>Linear Regression</td>\n",
       "      <td>0.744805</td>\n",
       "      <td>0.041861</td>\n",
       "    </tr>\n",
       "    <tr>\n",
       "      <th>3</th>\n",
       "      <td>Decision Tree Regression</td>\n",
       "      <td>0.698886</td>\n",
       "      <td>0.056405</td>\n",
       "    </tr>\n",
       "    <tr>\n",
       "      <th>4</th>\n",
       "      <td>KNN Regression</td>\n",
       "      <td>0.160897</td>\n",
       "      <td>0.068411</td>\n",
       "    </tr>\n",
       "    <tr>\n",
       "      <th>9</th>\n",
       "      <td>Support vector machines Regression</td>\n",
       "      <td>-0.104918</td>\n",
       "      <td>0.030712</td>\n",
       "    </tr>\n",
       "  </tbody>\n",
       "</table>\n",
       "</div>"
      ],
      "text/plain": [
       "                           model_name  score_mean  score_std\n",
       "8                  XGBoost Regression    0.860001   0.044084\n",
       "7                   GBoost Regression    0.856219   0.045083\n",
       "6                 Adaboost Regression    0.846230   0.049587\n",
       "5            Random forest Regression    0.834579   0.045280\n",
       "1                    Lasso Regression    0.745119   0.040579\n",
       "2                    Ridge Regression    0.744818   0.041491\n",
       "0                   Linear Regression    0.744805   0.041861\n",
       "3            Decision Tree Regression    0.698886   0.056405\n",
       "4                      KNN Regression    0.160897   0.068411\n",
       "9  Support vector machines Regression   -0.104918   0.030712"
      ]
     },
     "execution_count": 59,
     "metadata": {},
     "output_type": "execute_result"
    }
   ],
   "source": [
    "k_fold_cv_tunned(X_neww,y,fold=10)"
   ]
  },
  {
   "cell_type": "markdown",
   "id": "7be1b314",
   "metadata": {},
   "source": [
    "## 4. Tried to build a model by removing fetures which are not important much but it is affecting accuracy drastically hence i would say that number of dependants definately makes a difference in the amount claimed."
   ]
  },
  {
   "cell_type": "markdown",
   "id": "86396102",
   "metadata": {
    "ExecuteTime": {
     "end_time": "2022-05-18T11:51:46.537050Z",
     "start_time": "2022-05-18T11:51:46.533038Z"
    }
   },
   "source": [
    "### As G-boost Regression is giving atmost accuracy we are going to build a  prediction model by using G-boost algorithm "
   ]
  },
  {
   "cell_type": "code",
   "execution_count": 60,
   "id": "690f04cc",
   "metadata": {
    "ExecuteTime": {
     "end_time": "2022-05-20T11:30:30.134804Z",
     "start_time": "2022-05-20T11:30:30.129823Z"
    }
   },
   "outputs": [],
   "source": [
    "X_train,X_test,y_train,y_test = train_and_test_split(X_neww,y,test_size=0.2)"
   ]
  },
  {
   "cell_type": "code",
   "execution_count": 61,
   "id": "6acc7179",
   "metadata": {
    "ExecuteTime": {
     "end_time": "2022-05-20T11:30:30.263472Z",
     "start_time": "2022-05-20T11:30:30.135807Z"
    }
   },
   "outputs": [],
   "source": [
    "xxgb = XGBRegressor(learning_rate= 0.1, max_depth= 2, reg_lambda= 3)"
   ]
  },
  {
   "cell_type": "code",
   "execution_count": 62,
   "id": "ccf7a407",
   "metadata": {
    "ExecuteTime": {
     "end_time": "2022-05-20T11:30:30.910823Z",
     "start_time": "2022-05-20T11:30:30.266480Z"
    }
   },
   "outputs": [
    {
     "data": {
      "text/plain": [
       "XGBRegressor(base_score=0.5, booster='gbtree', callbacks=None,\n",
       "             colsample_bylevel=1, colsample_bynode=1, colsample_bytree=1,\n",
       "             early_stopping_rounds=None, enable_categorical=False,\n",
       "             eval_metric=None, gamma=0, gpu_id=-1, grow_policy='depthwise',\n",
       "             importance_type=None, interaction_constraints='',\n",
       "             learning_rate=0.1, max_bin=256, max_cat_to_onehot=4,\n",
       "             max_delta_step=0, max_depth=2, max_leaves=0, min_child_weight=1,\n",
       "             missing=nan, monotone_constraints='()', n_estimators=100, n_jobs=0,\n",
       "             num_parallel_tree=1, predictor='auto', random_state=0, reg_alpha=0,\n",
       "             reg_lambda=3, ...)"
      ]
     },
     "execution_count": 62,
     "metadata": {},
     "output_type": "execute_result"
    }
   ],
   "source": [
    "xxgb.fit(X_neww,y) "
   ]
  },
  {
   "cell_type": "code",
   "execution_count": 63,
   "id": "deeac4e2",
   "metadata": {
    "ExecuteTime": {
     "end_time": "2022-05-20T11:30:31.089002Z",
     "start_time": "2022-05-20T11:30:30.912828Z"
    }
   },
   "outputs": [],
   "source": [
    "new_sample = [[28,20,1,2,1,1]]"
   ]
  }
 ],
 "metadata": {
  "kernelspec": {
   "display_name": "Python 3 (ipykernel)",
   "language": "python",
   "name": "python3"
  },
  "language_info": {
   "codemirror_mode": {
    "name": "ipython",
    "version": 3
   },
   "file_extension": ".py",
   "mimetype": "text/x-python",
   "name": "python",
   "nbconvert_exporter": "python",
   "pygments_lexer": "ipython3",
   "version": "3.9.7"
  }
 },
 "nbformat": 4,
 "nbformat_minor": 5
}
